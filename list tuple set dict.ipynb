{
 "cells": [
  {
   "cell_type": "markdown",
   "id": "e710914b-173a-4b1b-9c48-676d5e9fe867",
   "metadata": {},
   "source": [
    "### LIST \n",
    "\n",
    "It is an ordered collection of elements which is mutuable & can store all types of data"
   ]
  },
  {
   "cell_type": "code",
   "execution_count": 1,
   "id": "b0c11865-ed98-47cc-920e-a5ddb9c5a03e",
   "metadata": {},
   "outputs": [],
   "source": [
    "w = []"
   ]
  },
  {
   "cell_type": "code",
   "execution_count": 2,
   "id": "8c2d224e-5481-4e93-979b-839c1e7002a2",
   "metadata": {},
   "outputs": [
    {
     "data": {
      "text/plain": [
       "list"
      ]
     },
     "execution_count": 2,
     "metadata": {},
     "output_type": "execute_result"
    }
   ],
   "source": [
    "type(w)"
   ]
  },
  {
   "cell_type": "code",
   "execution_count": 3,
   "id": "25d4b6d8-55d9-4352-aff6-3f87de979776",
   "metadata": {},
   "outputs": [],
   "source": [
    "w = [0,1,2,3,5,9,20,11,25] #ordered"
   ]
  },
  {
   "cell_type": "code",
   "execution_count": 4,
   "id": "8ea55fc5-94fe-47ce-83e6-93c4272e763a",
   "metadata": {},
   "outputs": [
    {
     "data": {
      "text/plain": [
       "[0, 1, 2, 3, 5, 9, 20, 11, 25]"
      ]
     },
     "execution_count": 4,
     "metadata": {},
     "output_type": "execute_result"
    }
   ],
   "source": [
    "w"
   ]
  },
  {
   "cell_type": "code",
   "execution_count": 5,
   "id": "b5ae54f2-e939-44e1-9e9b-4fb0fd959b17",
   "metadata": {},
   "outputs": [],
   "source": [
    "w.append(88)  #defines list as mutable i.e changes can be made"
   ]
  },
  {
   "cell_type": "code",
   "execution_count": 6,
   "id": "90e6d5ec-024e-4033-941f-257048f78b29",
   "metadata": {},
   "outputs": [
    {
     "data": {
      "text/plain": [
       "[0, 1, 2, 3, 5, 9, 20, 11, 25, 88]"
      ]
     },
     "execution_count": 6,
     "metadata": {},
     "output_type": "execute_result"
    }
   ],
   "source": [
    "w"
   ]
  },
  {
   "cell_type": "code",
   "execution_count": 9,
   "id": "bfa9cb03-94b9-4c42-a2ef-5b6596ada25a",
   "metadata": {},
   "outputs": [],
   "source": [
    "#nested list\n",
    "q = [1,1.5,\"string\",True,[1,2,3,\"new\",False]]  #stores all type of data "
   ]
  },
  {
   "cell_type": "code",
   "execution_count": 8,
   "id": "24458872-8a5a-4857-9d56-e496b7cb75dd",
   "metadata": {},
   "outputs": [
    {
     "data": {
      "text/plain": [
       "[1, 1.5, 'string', True, [1, 2, 3, 'new', False]]"
      ]
     },
     "execution_count": 8,
     "metadata": {},
     "output_type": "execute_result"
    }
   ],
   "source": [
    "q"
   ]
  },
  {
   "cell_type": "code",
   "execution_count": 11,
   "id": "f1c112f0-5c77-4a6d-855d-58ef4d9f5924",
   "metadata": {},
   "outputs": [],
   "source": [
    "l1 = [0,1,2,3,4,5,6,7,8,9,10]"
   ]
  },
  {
   "cell_type": "code",
   "execution_count": 12,
   "id": "b52d139c-2fef-4d7a-a3aa-94c08bfa17e1",
   "metadata": {},
   "outputs": [
    {
     "data": {
      "text/plain": [
       "11"
      ]
     },
     "execution_count": 12,
     "metadata": {},
     "output_type": "execute_result"
    }
   ],
   "source": [
    "#print the number of elements\n",
    "\n",
    "len(l1)"
   ]
  },
  {
   "cell_type": "code",
   "execution_count": 14,
   "id": "e8e29126-1464-4182-b271-ce81309a86dd",
   "metadata": {},
   "outputs": [
    {
     "data": {
      "text/plain": [
       "1"
      ]
     },
     "execution_count": 14,
     "metadata": {},
     "output_type": "execute_result"
    }
   ],
   "source": [
    "#count the occurence of given element\n",
    "\n",
    "l1.count(5)"
   ]
  },
  {
   "cell_type": "code",
   "execution_count": 16,
   "id": "84350b7f-cb55-4be8-91d3-7fd5fd61a966",
   "metadata": {},
   "outputs": [
    {
     "data": {
      "text/plain": [
       "[0, 1, 2, 3, 4, 5, 6, 7, 8, 9, 10, 900, 900]"
      ]
     },
     "execution_count": 16,
     "metadata": {},
     "output_type": "execute_result"
    }
   ],
   "source": [
    "#adds the given element in the end of the list\n",
    "\n",
    "l1.append(900)\n",
    "l1"
   ]
  },
  {
   "cell_type": "code",
   "execution_count": 18,
   "id": "12b27f56-abd7-46de-96b2-10c60978778a",
   "metadata": {},
   "outputs": [
    {
     "data": {
      "text/plain": [
       "900"
      ]
     },
     "execution_count": 18,
     "metadata": {},
     "output_type": "execute_result"
    }
   ],
   "source": [
    "#it print & remove the last element from the list\n",
    "\n",
    "l1.pop()"
   ]
  },
  {
   "cell_type": "code",
   "execution_count": 21,
   "id": "ff7d100c-b56f-48ae-9f9c-1af6d292f85b",
   "metadata": {},
   "outputs": [],
   "source": [
    "#it inserts the given element on the given index\n",
    "#variable.insert(index,element)\n",
    "l1.insert(2,300)"
   ]
  },
  {
   "cell_type": "code",
   "execution_count": 22,
   "id": "c7ed0e83-2491-457b-9970-9286076c9f78",
   "metadata": {},
   "outputs": [
    {
     "data": {
      "text/plain": [
       "[0, 1, 300, 300, 2, 3, 4, 5, 6, 7, 8, 9, 10, 900]"
      ]
     },
     "execution_count": 22,
     "metadata": {},
     "output_type": "execute_result"
    }
   ],
   "source": [
    "l1"
   ]
  },
  {
   "cell_type": "code",
   "execution_count": 25,
   "id": "a38b012a-59eb-4de7-a260-f11337ce3ef6",
   "metadata": {},
   "outputs": [],
   "source": [
    "#it adds more than 1 element in the end of the list\n",
    "\n",
    "l1.extend([600,75,12])"
   ]
  },
  {
   "cell_type": "code",
   "execution_count": 26,
   "id": "b4d9d786-80a1-4ab7-9e9a-0a03c1bcd88c",
   "metadata": {},
   "outputs": [
    {
     "data": {
      "text/plain": [
       "[0, 1, 300, 300, 2, 3, 4, 5, 6, 7, 8, 9, 10, 900, 600, 75, 12, 600, 75, 12]"
      ]
     },
     "execution_count": 26,
     "metadata": {},
     "output_type": "execute_result"
    }
   ],
   "source": [
    "l1"
   ]
  },
  {
   "cell_type": "code",
   "execution_count": 27,
   "id": "4c824556-ec0f-48bf-b728-4e6438e8f3d6",
   "metadata": {},
   "outputs": [],
   "source": [
    "#it remove the given element\n",
    "l1.remove(300)"
   ]
  },
  {
   "cell_type": "code",
   "execution_count": 28,
   "id": "5107157e-7a6d-4fbf-84c9-5d6f282fe2c2",
   "metadata": {},
   "outputs": [
    {
     "data": {
      "text/plain": [
       "[0, 1, 300, 2, 3, 4, 5, 6, 7, 8, 9, 10, 900, 600, 75, 12, 600, 75, 12]"
      ]
     },
     "execution_count": 28,
     "metadata": {},
     "output_type": "execute_result"
    }
   ],
   "source": [
    "l1"
   ]
  },
  {
   "cell_type": "code",
   "execution_count": 29,
   "id": "71494e44-cf9b-4105-898a-bb968ace5717",
   "metadata": {},
   "outputs": [],
   "source": [
    "#it reverse the list\n",
    "\n",
    "l1.reverse()"
   ]
  },
  {
   "cell_type": "code",
   "execution_count": 30,
   "id": "4501c756-ca34-4889-9fe3-81fa8e60266d",
   "metadata": {},
   "outputs": [
    {
     "data": {
      "text/plain": [
       "[12, 75, 600, 12, 75, 600, 900, 10, 9, 8, 7, 6, 5, 4, 3, 2, 300, 1, 0]"
      ]
     },
     "execution_count": 30,
     "metadata": {},
     "output_type": "execute_result"
    }
   ],
   "source": [
    "l1"
   ]
  },
  {
   "cell_type": "code",
   "execution_count": 31,
   "id": "a5bba474-7d44-4878-a9b7-cf8de617b543",
   "metadata": {},
   "outputs": [],
   "source": [
    "#it sort the list in asc order\n",
    "\n",
    "l1.sort()"
   ]
  },
  {
   "cell_type": "code",
   "execution_count": 32,
   "id": "79b0e6d7-fb9e-4536-8f9b-122b16977dfe",
   "metadata": {},
   "outputs": [
    {
     "data": {
      "text/plain": [
       "[0, 1, 2, 3, 4, 5, 6, 7, 8, 9, 10, 12, 12, 75, 75, 300, 600, 600, 900]"
      ]
     },
     "execution_count": 32,
     "metadata": {},
     "output_type": "execute_result"
    }
   ],
   "source": [
    "l1"
   ]
  },
  {
   "cell_type": "code",
   "execution_count": 33,
   "id": "dd2614e1-11e0-40c5-b237-31d6f59b8229",
   "metadata": {},
   "outputs": [],
   "source": [
    "#it sort the list in desc order\n",
    "\n",
    "l1.sort(reverse=True)"
   ]
  },
  {
   "cell_type": "code",
   "execution_count": 34,
   "id": "a5f44560-f091-4b3d-b713-2d6df17acda8",
   "metadata": {},
   "outputs": [
    {
     "data": {
      "text/plain": [
       "[900, 600, 600, 300, 75, 75, 12, 12, 10, 9, 8, 7, 6, 5, 4, 3, 2, 1, 0]"
      ]
     },
     "execution_count": 34,
     "metadata": {},
     "output_type": "execute_result"
    }
   ],
   "source": [
    "l1"
   ]
  },
  {
   "cell_type": "code",
   "execution_count": 36,
   "id": "b2894abc-0230-49cd-9b55-df6101533a62",
   "metadata": {},
   "outputs": [
    {
     "data": {
      "text/plain": [
       "1"
      ]
     },
     "execution_count": 36,
     "metadata": {},
     "output_type": "execute_result"
    }
   ],
   "source": [
    "#tells the index value of given element\n",
    "\n",
    "l1.index(600) #by default starts from start"
   ]
  },
  {
   "cell_type": "code",
   "execution_count": 37,
   "id": "60fbb4e4-45c0-4fc9-ac86-4a73b642f38a",
   "metadata": {},
   "outputs": [
    {
     "data": {
      "text/plain": [
       "2"
      ]
     },
     "execution_count": 37,
     "metadata": {},
     "output_type": "execute_result"
    }
   ],
   "source": [
    "l1.index(600,2) "
   ]
  },
  {
   "cell_type": "code",
   "execution_count": 38,
   "id": "25c6c5a6-216a-46f4-8e3e-63a2cca14f36",
   "metadata": {},
   "outputs": [],
   "source": [
    "#it remove all the elements from list & make an empty list\n",
    "\n",
    "l1.clear()"
   ]
  },
  {
   "cell_type": "code",
   "execution_count": 39,
   "id": "9388f6d3-4cba-492e-91eb-048388452bef",
   "metadata": {},
   "outputs": [
    {
     "data": {
      "text/plain": [
       "[]"
      ]
     },
     "execution_count": 39,
     "metadata": {},
     "output_type": "execute_result"
    }
   ],
   "source": [
    "l1"
   ]
  },
  {
   "cell_type": "code",
   "execution_count": 40,
   "id": "3928bc32-a5b0-4471-95b2-bd3b23529f1e",
   "metadata": {},
   "outputs": [
    {
     "data": {
      "text/plain": [
       "[]"
      ]
     },
     "execution_count": 40,
     "metadata": {},
     "output_type": "execute_result"
    }
   ],
   "source": [
    "#to make a copy of list\n",
    "\n",
    "l1.copy()"
   ]
  },
  {
   "cell_type": "code",
   "execution_count": 48,
   "id": "d1060c97-af73-4544-a75a-5137ee8e2421",
   "metadata": {},
   "outputs": [],
   "source": [
    "#it insert the given element on the given index . only one element at a time\n",
    "#we can only add one element at a time\n",
    "q.insert(4,66)"
   ]
  },
  {
   "cell_type": "code",
   "execution_count": 44,
   "id": "5784d542-3899-478b-bdd8-dbf3d2baf563",
   "metadata": {},
   "outputs": [
    {
     "data": {
      "text/plain": [
       "[1, 1.5, 'string', True, 66, [1, 2, 3, 'new', False]]"
      ]
     },
     "execution_count": 44,
     "metadata": {},
     "output_type": "execute_result"
    }
   ],
   "source": [
    "q"
   ]
  },
  {
   "cell_type": "code",
   "execution_count": 45,
   "id": "4542d2d4-5c07-4f7c-9093-91249989bc65",
   "metadata": {},
   "outputs": [
    {
     "data": {
      "text/plain": [
       "1.5"
      ]
     },
     "execution_count": 45,
     "metadata": {},
     "output_type": "execute_result"
    }
   ],
   "source": [
    "q[1]"
   ]
  },
  {
   "cell_type": "code",
   "execution_count": 46,
   "id": "bddfdfc7-945f-498a-98e7-68c0eb274e9d",
   "metadata": {},
   "outputs": [],
   "source": [
    "q[1] = \"hello\""
   ]
  },
  {
   "cell_type": "code",
   "execution_count": 47,
   "id": "820a72a1-5df6-4ec8-b841-546380c8feb7",
   "metadata": {},
   "outputs": [
    {
     "data": {
      "text/plain": [
       "[1, 'hello', 'string', True, 66, [1, 2, 3, 'new', False]]"
      ]
     },
     "execution_count": 47,
     "metadata": {},
     "output_type": "execute_result"
    }
   ],
   "source": [
    "q"
   ]
  },
  {
   "cell_type": "code",
   "execution_count": 49,
   "id": "205402e4-e7ae-4cc1-821f-f849159aff8e",
   "metadata": {},
   "outputs": [],
   "source": [
    "#variable[start:stop:step]"
   ]
  },
  {
   "cell_type": "code",
   "execution_count": 50,
   "id": "5274e003-3417-46bb-8dd8-2f3f63f89f35",
   "metadata": {},
   "outputs": [
    {
     "data": {
      "text/plain": [
       "'new'"
      ]
     },
     "execution_count": 50,
     "metadata": {},
     "output_type": "execute_result"
    }
   ],
   "source": [
    "q[-1][3]"
   ]
  },
  {
   "cell_type": "code",
   "execution_count": 57,
   "id": "5f32d0f3-ce85-440e-918d-f727e71d4da7",
   "metadata": {},
   "outputs": [],
   "source": [
    "q[2] = 3"
   ]
  },
  {
   "cell_type": "code",
   "execution_count": 58,
   "id": "904ba767-3f47-4b68-af91-806a6d5d9e3c",
   "metadata": {},
   "outputs": [
    {
     "data": {
      "text/plain": [
       "[1, 'hello', 3, True, 66, 66, [1, 2, 3, 'new', False]]"
      ]
     },
     "execution_count": 58,
     "metadata": {},
     "output_type": "execute_result"
    }
   ],
   "source": [
    "q"
   ]
  },
  {
   "cell_type": "code",
   "execution_count": 61,
   "id": "b7a508b1-7512-4abe-b932-ef32a05bffe2",
   "metadata": {},
   "outputs": [],
   "source": [
    "q[-1][3] = 21"
   ]
  },
  {
   "cell_type": "code",
   "execution_count": 62,
   "id": "9132a36e-e3fb-4257-817c-8e13a78cc42a",
   "metadata": {},
   "outputs": [
    {
     "data": {
      "text/plain": [
       "[1, 'hello', 3, True, 66, 66, [1, 2, 3, 21, False]]"
      ]
     },
     "execution_count": 62,
     "metadata": {},
     "output_type": "execute_result"
    }
   ],
   "source": [
    "q"
   ]
  },
  {
   "cell_type": "code",
   "execution_count": 63,
   "id": "37167667-17e6-431b-aa60-02d1df512d19",
   "metadata": {},
   "outputs": [
    {
     "data": {
      "text/plain": [
       "[1, 2, 3, 21, False]"
      ]
     },
     "execution_count": 63,
     "metadata": {},
     "output_type": "execute_result"
    }
   ],
   "source": [
    "q[6]"
   ]
  },
  {
   "cell_type": "code",
   "execution_count": 64,
   "id": "46f7870d-c21f-4ce6-9d15-5fa2dc1ef78c",
   "metadata": {},
   "outputs": [],
   "source": [
    "q.append(\"next\")"
   ]
  },
  {
   "cell_type": "code",
   "execution_count": 65,
   "id": "48d2e1e8-876c-4ccb-85f4-d465749b53ea",
   "metadata": {},
   "outputs": [
    {
     "data": {
      "text/plain": [
       "[1, 'hello', 3, True, 66, 66, [1, 2, 3, 21, False], 'next']"
      ]
     },
     "execution_count": 65,
     "metadata": {},
     "output_type": "execute_result"
    }
   ],
   "source": [
    "q\n"
   ]
  },
  {
   "cell_type": "code",
   "execution_count": 66,
   "id": "02a2ba61-0280-4564-b45e-d246183cb382",
   "metadata": {},
   "outputs": [
    {
     "data": {
      "text/plain": [
       "'next'"
      ]
     },
     "execution_count": 66,
     "metadata": {},
     "output_type": "execute_result"
    }
   ],
   "source": [
    "q[-1]"
   ]
  },
  {
   "cell_type": "code",
   "execution_count": 67,
   "id": "46bb6698-5685-48c2-bf61-7b4d0d1d9acb",
   "metadata": {},
   "outputs": [
    {
     "data": {
      "text/plain": [
       "[1, 2, 3, 21, False]"
      ]
     },
     "execution_count": 67,
     "metadata": {},
     "output_type": "execute_result"
    }
   ],
   "source": [
    "q[6]"
   ]
  },
  {
   "cell_type": "code",
   "execution_count": 70,
   "id": "f1e3ff90-e99e-46c0-a33b-bbb163518ac4",
   "metadata": {},
   "outputs": [
    {
     "data": {
      "text/plain": [
       "False"
      ]
     },
     "execution_count": 70,
     "metadata": {},
     "output_type": "execute_result"
    }
   ],
   "source": [
    "q[6][4]"
   ]
  },
  {
   "cell_type": "code",
   "execution_count": 73,
   "id": "5dc91d32-e951-4ad0-8c8d-1b5aaca66129",
   "metadata": {},
   "outputs": [],
   "source": [
    "q.remove(\"next\")"
   ]
  },
  {
   "cell_type": "code",
   "execution_count": 74,
   "id": "a1669280-594e-44cf-9999-52706143834a",
   "metadata": {},
   "outputs": [
    {
     "data": {
      "text/plain": [
       "[1, 'hello', 3, True, 66, 66, [1, 2, 3, 21, False]]"
      ]
     },
     "execution_count": 74,
     "metadata": {},
     "output_type": "execute_result"
    }
   ],
   "source": [
    "q"
   ]
  },
  {
   "cell_type": "code",
   "execution_count": 91,
   "id": "9d392e9e-0a2f-4e81-bca9-5844744f7378",
   "metadata": {},
   "outputs": [
    {
     "data": {
      "text/plain": [
       "[1, 2, 3, 21, False]"
      ]
     },
     "execution_count": 91,
     "metadata": {},
     "output_type": "execute_result"
    }
   ],
   "source": [
    "q.pop(6)"
   ]
  },
  {
   "cell_type": "code",
   "execution_count": 92,
   "id": "a71284f2-3b4b-464f-b192-cba51fa03688",
   "metadata": {},
   "outputs": [
    {
     "data": {
      "text/plain": [
       "[1, 'hello', 3, True, 66, 66]"
      ]
     },
     "execution_count": 92,
     "metadata": {},
     "output_type": "execute_result"
    }
   ],
   "source": [
    "q"
   ]
  },
  {
   "cell_type": "code",
   "execution_count": 93,
   "id": "241d097a-24f6-4580-a181-40b22e48951a",
   "metadata": {},
   "outputs": [],
   "source": [
    "q.append([1, 2, 3, 21, False])"
   ]
  },
  {
   "cell_type": "code",
   "execution_count": 94,
   "id": "32e0d30c-1c5c-4e79-829f-45f4aa8731c4",
   "metadata": {},
   "outputs": [
    {
     "data": {
      "text/plain": [
       "[1, 'hello', 3, True, 66, 66, [1, 2, 3, 21, False]]"
      ]
     },
     "execution_count": 94,
     "metadata": {},
     "output_type": "execute_result"
    }
   ],
   "source": [
    "q"
   ]
  },
  {
   "cell_type": "code",
   "execution_count": 96,
   "id": "1bccad64-8487-4043-b925-88fcd6df9049",
   "metadata": {},
   "outputs": [
    {
     "data": {
      "text/plain": [
       "[1, 2, 3, 21, False]"
      ]
     },
     "execution_count": 96,
     "metadata": {},
     "output_type": "execute_result"
    }
   ],
   "source": [
    "q[6]"
   ]
  },
  {
   "cell_type": "code",
   "execution_count": 99,
   "id": "6a01513a-871c-4f50-8839-89678bcdb2e1",
   "metadata": {},
   "outputs": [],
   "source": [
    "r = [4,5,7,[4,2,0,3,5,\"todey\",4],478,\"string\"]"
   ]
  },
  {
   "cell_type": "code",
   "execution_count": 107,
   "id": "2d6e491e-6a72-421a-a86f-e020b6b4ba03",
   "metadata": {},
   "outputs": [],
   "source": [
    "r[-3][-2]=r[-3][-2].replace(\"e\",\"a\")"
   ]
  },
  {
   "cell_type": "code",
   "execution_count": 111,
   "id": "911979c1-be36-4b41-bbbc-0ac5634bf7bc",
   "metadata": {},
   "outputs": [
    {
     "data": {
      "text/plain": [
       "[4, 5, 7, [4, 2, 'today', 4], 478, 'string']"
      ]
     },
     "execution_count": 111,
     "metadata": {},
     "output_type": "execute_result"
    }
   ],
   "source": [
    "r"
   ]
  },
  {
   "cell_type": "code",
   "execution_count": 113,
   "id": "e594d3a6-fdbc-4f74-86b5-0e7470bf171c",
   "metadata": {},
   "outputs": [],
   "source": [
    "r[3].remove(4)"
   ]
  },
  {
   "cell_type": "code",
   "execution_count": 114,
   "id": "ee44608d-d288-48ea-a16b-dcbbd6bf21c8",
   "metadata": {},
   "outputs": [
    {
     "data": {
      "text/plain": [
       "[4, 5, 7, [2, 'today', 4], 478, 'string']"
      ]
     },
     "execution_count": 114,
     "metadata": {},
     "output_type": "execute_result"
    }
   ],
   "source": [
    "r"
   ]
  },
  {
   "cell_type": "markdown",
   "id": "d986dfe8-9f30-43ca-bf39-a2707e439d59",
   "metadata": {},
   "source": [
    "### Tuple\n",
    "\n",
    "It is an ordered collection of elements using () & it is not mutuable\n",
    "\n",
    "It can store all type of data"
   ]
  },
  {
   "cell_type": "code",
   "execution_count": 1,
   "id": "f255333c-535e-4761-87a7-cee96866b4d4",
   "metadata": {},
   "outputs": [],
   "source": [
    "t = ()"
   ]
  },
  {
   "cell_type": "code",
   "execution_count": 2,
   "id": "efa5a90d-3146-4bb4-9e55-ecedc040c103",
   "metadata": {},
   "outputs": [
    {
     "data": {
      "text/plain": [
       "tuple"
      ]
     },
     "execution_count": 2,
     "metadata": {},
     "output_type": "execute_result"
    }
   ],
   "source": [
    "type(t)"
   ]
  },
  {
   "cell_type": "code",
   "execution_count": 3,
   "id": "099a929f-4a1f-4423-9652-a8fb63692002",
   "metadata": {},
   "outputs": [],
   "source": [
    "e = (1,2,3,4,5,\"string\",True)"
   ]
  },
  {
   "cell_type": "code",
   "execution_count": 4,
   "id": "53614d20-e654-430c-87a2-d240494142c3",
   "metadata": {},
   "outputs": [
    {
     "data": {
      "text/plain": [
       "(1, 2, 3, 4, 5, 'string', True)"
      ]
     },
     "execution_count": 4,
     "metadata": {},
     "output_type": "execute_result"
    }
   ],
   "source": [
    "e"
   ]
  },
  {
   "cell_type": "code",
   "execution_count": 6,
   "id": "a9e16354-7f1e-4363-aeba-0bf56bcd73fb",
   "metadata": {},
   "outputs": [
    {
     "data": {
      "text/plain": [
       "1"
      ]
     },
     "execution_count": 6,
     "metadata": {},
     "output_type": "execute_result"
    }
   ],
   "source": [
    "e.count(5)"
   ]
  },
  {
   "cell_type": "code",
   "execution_count": 7,
   "id": "da9ebde2-6875-4d8a-af76-77d061ef7daa",
   "metadata": {},
   "outputs": [
    {
     "data": {
      "text/plain": [
       "5"
      ]
     },
     "execution_count": 7,
     "metadata": {},
     "output_type": "execute_result"
    }
   ],
   "source": [
    "e.index(\"string\")"
   ]
  },
  {
   "cell_type": "markdown",
   "id": "c24d1a02-fcb4-49a7-8d4a-10c1e1aea18f",
   "metadata": {},
   "source": [
    "### Set\n",
    "\n",
    "It is an unordered collection of unique elements\n",
    "\n",
    "It doesnot contain any duplicate element\n",
    "\n",
    "There is no indexing & slicing in the set"
   ]
  },
  {
   "cell_type": "code",
   "execution_count": 8,
   "id": "47da1f95-b6fa-41f4-9fc9-846f671d172c",
   "metadata": {},
   "outputs": [],
   "source": [
    "s = set()"
   ]
  },
  {
   "cell_type": "code",
   "execution_count": 9,
   "id": "36eaf521-b6be-4b85-9373-e5e2a6211af0",
   "metadata": {},
   "outputs": [
    {
     "data": {
      "text/plain": [
       "set"
      ]
     },
     "execution_count": 9,
     "metadata": {},
     "output_type": "execute_result"
    }
   ],
   "source": [
    "type(s)"
   ]
  },
  {
   "cell_type": "code",
   "execution_count": 10,
   "id": "21a1b59e-affc-47c5-a83b-58ccd593fec6",
   "metadata": {},
   "outputs": [],
   "source": [
    "s = {4,8,9,9,6,3,5,10}"
   ]
  },
  {
   "cell_type": "code",
   "execution_count": 11,
   "id": "81dcc530-d739-4a19-aa75-9135b3e5c64f",
   "metadata": {},
   "outputs": [
    {
     "data": {
      "text/plain": [
       "{3, 4, 5, 6, 8, 9, 10}"
      ]
     },
     "execution_count": 11,
     "metadata": {},
     "output_type": "execute_result"
    }
   ],
   "source": [
    "s"
   ]
  },
  {
   "cell_type": "markdown",
   "id": "761405e3-6cdf-437e-9b7d-3290e06a19c2",
   "metadata": {},
   "source": [
    "##### SET FUNCTIONS\n",
    "\n",
    "s.difference() : it will print the unique element of the left set\n",
    "\n",
    "s.intersection() : it print common  elements from the set\n",
    "\n",
    "s.pop() : it will remove a random element from set\n",
    "\n",
    "s.symmetric_difference() : it will print the unique elements from the set\n",
    "\n",
    "union() : it will combine the elements of both the sets & print them\n",
    "\n",
    "update() : it will add & save the new set in old one\n",
    "\n",
    "discard() :\n",
    "\n",
    "remove() : "
   ]
  },
  {
   "cell_type": "code",
   "execution_count": 12,
   "id": "e9051d56-d579-4505-91b0-f8fc31a99312",
   "metadata": {},
   "outputs": [
    {
     "data": {
      "text/plain": [
       "3"
      ]
     },
     "execution_count": 12,
     "metadata": {},
     "output_type": "execute_result"
    }
   ],
   "source": [
    "s.pop()"
   ]
  },
  {
   "cell_type": "code",
   "execution_count": 14,
   "id": "6f6a4439-6342-468c-90aa-50065671851f",
   "metadata": {},
   "outputs": [],
   "source": [
    "q1 = {1,2,3,4,5,6,7,500,600}\n",
    "q2 = {11,22,33,44,4,5,6,9,500}"
   ]
  },
  {
   "cell_type": "code",
   "execution_count": 15,
   "id": "f57782cf-ad32-482a-932c-75a65913bfe0",
   "metadata": {},
   "outputs": [
    {
     "data": {
      "text/plain": [
       "{1, 2, 3, 7, 600}"
      ]
     },
     "execution_count": 15,
     "metadata": {},
     "output_type": "execute_result"
    }
   ],
   "source": [
    "q1.difference(q2)"
   ]
  },
  {
   "cell_type": "code",
   "execution_count": 16,
   "id": "a713a659-44d9-4565-8d1f-f91d76c76ebf",
   "metadata": {},
   "outputs": [
    {
     "data": {
      "text/plain": [
       "{9, 11, 22, 33, 44}"
      ]
     },
     "execution_count": 16,
     "metadata": {},
     "output_type": "execute_result"
    }
   ],
   "source": [
    "q2.difference(q1)"
   ]
  },
  {
   "cell_type": "code",
   "execution_count": 17,
   "id": "e203551a-9a5a-4295-84f4-ea574892f25e",
   "metadata": {},
   "outputs": [
    {
     "data": {
      "text/plain": [
       "{4, 5, 6, 500}"
      ]
     },
     "execution_count": 17,
     "metadata": {},
     "output_type": "execute_result"
    }
   ],
   "source": [
    "q1.intersection(q2)"
   ]
  },
  {
   "cell_type": "code",
   "execution_count": 18,
   "id": "6e2975c1-3252-4abc-9515-70bfc4967d41",
   "metadata": {},
   "outputs": [
    {
     "data": {
      "text/plain": [
       "{1, 2, 3, 7, 9, 11, 22, 33, 44, 600}"
      ]
     },
     "execution_count": 18,
     "metadata": {},
     "output_type": "execute_result"
    }
   ],
   "source": [
    "q1.symmetric_difference(q2)"
   ]
  },
  {
   "cell_type": "code",
   "execution_count": 19,
   "id": "ca2e1679-7490-4ca8-beaa-cd3ebdb20487",
   "metadata": {},
   "outputs": [
    {
     "data": {
      "text/plain": [
       "{1, 2, 3, 4, 5, 6, 7, 9, 11, 22, 33, 44, 500, 600}"
      ]
     },
     "execution_count": 19,
     "metadata": {},
     "output_type": "execute_result"
    }
   ],
   "source": [
    "q1.union(q2)"
   ]
  },
  {
   "cell_type": "code",
   "execution_count": 22,
   "id": "d2d45230-258f-4258-a226-f949e6ca7374",
   "metadata": {},
   "outputs": [],
   "source": [
    "q1.update(q2)"
   ]
  },
  {
   "cell_type": "code",
   "execution_count": 25,
   "id": "79fc4d1d-cd01-4588-b1b2-b735e4cf0977",
   "metadata": {},
   "outputs": [
    {
     "data": {
      "text/plain": [
       "{4, 5, 6, 9, 11, 22, 33, 44, 500}"
      ]
     },
     "execution_count": 25,
     "metadata": {},
     "output_type": "execute_result"
    }
   ],
   "source": [
    "q1"
   ]
  },
  {
   "cell_type": "code",
   "execution_count": 23,
   "id": "b258dda7-92d8-4e4d-94d3-63df40a3fdb9",
   "metadata": {},
   "outputs": [],
   "source": [
    "q1.discard(5)"
   ]
  },
  {
   "cell_type": "code",
   "execution_count": 24,
   "id": "c7cddcec-8b85-47a0-aaff-01a74c1ef9f1",
   "metadata": {},
   "outputs": [
    {
     "data": {
      "text/plain": [
       "{1, 2, 3, 4, 6, 7, 500, 600}"
      ]
     },
     "execution_count": 24,
     "metadata": {},
     "output_type": "execute_result"
    }
   ],
   "source": [
    "q1"
   ]
  },
  {
   "cell_type": "code",
   "execution_count": 26,
   "id": "9460891e-f731-435c-b5bc-d7c556a08b56",
   "metadata": {},
   "outputs": [
    {
     "ename": "KeyError",
     "evalue": "{33, 4, 5, 6, 9, 11, 44, 500, 22}",
     "output_type": "error",
     "traceback": [
      "\u001b[1;31m---------------------------------------------------------------------------\u001b[0m",
      "\u001b[1;31mKeyError\u001b[0m                                  Traceback (most recent call last)",
      "Cell \u001b[1;32mIn[26], line 1\u001b[0m\n\u001b[1;32m----> 1\u001b[0m \u001b[43mq1\u001b[49m\u001b[38;5;241;43m.\u001b[39;49m\u001b[43mremove\u001b[49m\u001b[43m(\u001b[49m\u001b[43mq2\u001b[49m\u001b[43m)\u001b[49m\n",
      "\u001b[1;31mKeyError\u001b[0m: {33, 4, 5, 6, 9, 11, 44, 500, 22}"
     ]
    }
   ],
   "source": [
    "q1.remove(q2)"
   ]
  },
  {
   "cell_type": "markdown",
   "id": "c13a6c31-777b-41c7-b895-233d85197259",
   "metadata": {},
   "source": [
    "### Dictionary\n",
    "\n",
    "It is a pair of keys & values"
   ]
  },
  {
   "cell_type": "markdown",
   "id": "b7f3cfdb-6cdb-42ba-bfed-e8312526d845",
   "metadata": {},
   "source": [
    "##### Dict Functions\n",
    "\n",
    "d.keys() : print the keys of dictionary\n",
    "\n",
    "d.values() : print the values of dictionary\n",
    "\n",
    "d[\"key_name\"] : print the values of a particular key"
   ]
  },
  {
   "cell_type": "code",
   "execution_count": 27,
   "id": "7b6febd0-e563-40e6-a90d-df8830d3dd66",
   "metadata": {},
   "outputs": [],
   "source": [
    "s = {}"
   ]
  },
  {
   "cell_type": "code",
   "execution_count": 28,
   "id": "111c2b30-9139-46bf-b579-f432d4449374",
   "metadata": {},
   "outputs": [
    {
     "data": {
      "text/plain": [
       "dict"
      ]
     },
     "execution_count": 28,
     "metadata": {},
     "output_type": "execute_result"
    }
   ],
   "source": [
    "type(s)"
   ]
  },
  {
   "cell_type": "code",
   "execution_count": 32,
   "id": "99c523e8-ead1-4a89-babe-412a56429c1b",
   "metadata": {},
   "outputs": [],
   "source": [
    "d = {\"name\":[\"a\",\"b\",\"c\"],     #list mutable\n",
    "    \"age\":[22,25,26]}"
   ]
  },
  {
   "cell_type": "code",
   "execution_count": 33,
   "id": "73b5579b-28e7-40eb-ba0d-6084801effa1",
   "metadata": {},
   "outputs": [
    {
     "data": {
      "text/plain": [
       "{'name': ['a', 'b', 'c'], 'age': [22, 25, 26]}"
      ]
     },
     "execution_count": 33,
     "metadata": {},
     "output_type": "execute_result"
    }
   ],
   "source": [
    "d"
   ]
  },
  {
   "cell_type": "code",
   "execution_count": 34,
   "id": "da12350a-c5c8-4672-a76a-793e53250736",
   "metadata": {},
   "outputs": [],
   "source": [
    "d1 = {\"name\":(\"a\",\"b\",\"c\"),   #tuple immutable\n",
    "     \"age\":(22,25,26)}"
   ]
  },
  {
   "cell_type": "code",
   "execution_count": 35,
   "id": "9f21f574-fb0d-4ac8-9951-92897009b8bb",
   "metadata": {},
   "outputs": [
    {
     "data": {
      "text/plain": [
       "{'name': ('a', 'b', 'c'), 'age': (22, 25, 26)}"
      ]
     },
     "execution_count": 35,
     "metadata": {},
     "output_type": "execute_result"
    }
   ],
   "source": [
    "d1"
   ]
  },
  {
   "cell_type": "code",
   "execution_count": 37,
   "id": "9b5d2914-49b0-4bdb-bc73-b7633764a8a8",
   "metadata": {},
   "outputs": [
    {
     "data": {
      "text/plain": [
       "dict_keys(['name', 'age'])"
      ]
     },
     "execution_count": 37,
     "metadata": {},
     "output_type": "execute_result"
    }
   ],
   "source": [
    "#print the keys of dictionary\n",
    "\n",
    "d.keys()"
   ]
  },
  {
   "cell_type": "code",
   "execution_count": 38,
   "id": "0c0b6632-027b-4e5f-9e20-13c4a48d1c63",
   "metadata": {},
   "outputs": [
    {
     "data": {
      "text/plain": [
       "dict_values([['a', 'b', 'c'], [22, 25, 26]])"
      ]
     },
     "execution_count": 38,
     "metadata": {},
     "output_type": "execute_result"
    }
   ],
   "source": [
    "#print the values of dictionary\n",
    "\n",
    "d.values()"
   ]
  },
  {
   "cell_type": "code",
   "execution_count": 39,
   "id": "ade703cd-2714-4230-83a4-f85077c24670",
   "metadata": {},
   "outputs": [
    {
     "data": {
      "text/plain": [
       "['a', 'b', 'c']"
      ]
     },
     "execution_count": 39,
     "metadata": {},
     "output_type": "execute_result"
    }
   ],
   "source": [
    "d[\"name\"]"
   ]
  },
  {
   "cell_type": "code",
   "execution_count": 40,
   "id": "1ef8e922-c3c3-46f5-89a9-0953639d29f0",
   "metadata": {},
   "outputs": [
    {
     "data": {
      "text/plain": [
       "'a'"
      ]
     },
     "execution_count": 40,
     "metadata": {},
     "output_type": "execute_result"
    }
   ],
   "source": [
    "d[\"name\"][0]"
   ]
  },
  {
   "cell_type": "code",
   "execution_count": 41,
   "id": "1ae7cad7-0e31-4578-b763-def2a42af223",
   "metadata": {},
   "outputs": [],
   "source": [
    "d[\"name\"].append(\"d\")"
   ]
  },
  {
   "cell_type": "code",
   "execution_count": 42,
   "id": "72c89607-c862-4dd0-8162-09a73dc4e8b6",
   "metadata": {},
   "outputs": [
    {
     "data": {
      "text/plain": [
       "['a', 'b', 'c', 'd']"
      ]
     },
     "execution_count": 42,
     "metadata": {},
     "output_type": "execute_result"
    }
   ],
   "source": [
    "d[\"name\"]"
   ]
  },
  {
   "cell_type": "code",
   "execution_count": 43,
   "id": "5a7c800d-e443-4491-8f83-8daf11175a36",
   "metadata": {},
   "outputs": [
    {
     "data": {
      "text/plain": [
       "{'name': ['a', 'b', 'c', 'd'], 'age': [22, 25, 26]}"
      ]
     },
     "execution_count": 43,
     "metadata": {},
     "output_type": "execute_result"
    }
   ],
   "source": [
    "d"
   ]
  },
  {
   "cell_type": "code",
   "execution_count": 44,
   "id": "4672e0f8-c0e9-45b3-8397-719b83a8d8b0",
   "metadata": {},
   "outputs": [],
   "source": [
    "w = {\"id\":[1001,1002,1003,1004,1005],\n",
    "    \"location\":[\"Delhi\",\"Noida\",\"Jaipur\",\"Pune\",\"Mumbai\"],\n",
    "    \"job\":[\"DS\",\"analyst\",\"HR\",\"Manager\"]}"
   ]
  },
  {
   "cell_type": "code",
   "execution_count": 45,
   "id": "868e3de5-aef7-4940-92cd-5e2812d4d7fb",
   "metadata": {},
   "outputs": [
    {
     "data": {
      "text/plain": [
       "{'id': [1001, 1002, 1003, 1004, 1005],\n",
       " 'location': ['Delhi', 'Noida', 'Jaipur', 'Pune', 'Mumbai'],\n",
       " 'job': ['DS', 'analyst', 'HR', 'Manager']}"
      ]
     },
     "execution_count": 45,
     "metadata": {},
     "output_type": "execute_result"
    }
   ],
   "source": [
    "w"
   ]
  },
  {
   "cell_type": "code",
   "execution_count": 51,
   "id": "1373a281-9cd6-4388-b8ed-a6520eb3cbe2",
   "metadata": {},
   "outputs": [
    {
     "data": {
      "text/plain": [
       "['Delhi', 'Noida', 'Jaipur', 'Pune', 'Mumbai']"
      ]
     },
     "execution_count": 51,
     "metadata": {},
     "output_type": "execute_result"
    }
   ],
   "source": [
    "w[\"location\"]"
   ]
  },
  {
   "cell_type": "code",
   "execution_count": 52,
   "id": "7124b3fa-ddd6-40ba-b78e-1bf844f8f5cf",
   "metadata": {},
   "outputs": [],
   "source": [
    "w[\"location\"][1:3]=[\"Jammu\",\"Kashmir\"]"
   ]
  },
  {
   "cell_type": "code",
   "execution_count": 53,
   "id": "03a0d300-8695-451f-95db-5bf569e6966e",
   "metadata": {},
   "outputs": [
    {
     "data": {
      "text/plain": [
       "['Delhi', 'Jammu', 'Kashmir', 'Pune', 'Mumbai']"
      ]
     },
     "execution_count": 53,
     "metadata": {},
     "output_type": "execute_result"
    }
   ],
   "source": [
    "w[\"location\"]"
   ]
  },
  {
   "cell_type": "code",
   "execution_count": 1,
   "id": "ad0b8889-19db-455e-b97c-aed9f9175ba4",
   "metadata": {},
   "outputs": [],
   "source": [
    "r = {\"ID\":[1441,1442,1443,1445],\n",
    "     \"JOB\":[\"HR\",\"Manager\",\"CA\",\"CS\"]}"
   ]
  },
  {
   "cell_type": "code",
   "execution_count": 2,
   "id": "9342dbe9-df44-4d88-89fe-b2353eebfeaa",
   "metadata": {},
   "outputs": [
    {
     "data": {
      "text/plain": [
       "{'ID': [1441, 1442, 1443, 1445], 'JOB': ['HR', 'Manager', 'CA', 'CS']}"
      ]
     },
     "execution_count": 2,
     "metadata": {},
     "output_type": "execute_result"
    }
   ],
   "source": [
    "r"
   ]
  },
  {
   "cell_type": "code",
   "execution_count": 3,
   "id": "dccdf027-a13b-4102-83ab-8879a9dc59cb",
   "metadata": {},
   "outputs": [
    {
     "data": {
      "text/plain": [
       "dict_keys(['ID', 'JOB'])"
      ]
     },
     "execution_count": 3,
     "metadata": {},
     "output_type": "execute_result"
    }
   ],
   "source": [
    "r.keys()"
   ]
  },
  {
   "cell_type": "code",
   "execution_count": 4,
   "id": "97c7971a-b450-4aa7-8f13-c413d992cb57",
   "metadata": {},
   "outputs": [
    {
     "data": {
      "text/plain": [
       "dict_values([[1441, 1442, 1443, 1445], ['HR', 'Manager', 'CA', 'CS']])"
      ]
     },
     "execution_count": 4,
     "metadata": {},
     "output_type": "execute_result"
    }
   ],
   "source": [
    "r.values()"
   ]
  },
  {
   "cell_type": "code",
   "execution_count": 5,
   "id": "a92173ac-c9a7-401f-89fd-d32c2392477f",
   "metadata": {},
   "outputs": [
    {
     "data": {
      "text/plain": [
       "{'ID': [1441, 1442, 1443, 1445], 'JOB': ['HR', 'Manager', 'CA', 'CS']}"
      ]
     },
     "execution_count": 5,
     "metadata": {},
     "output_type": "execute_result"
    }
   ],
   "source": [
    "r"
   ]
  },
  {
   "cell_type": "code",
   "execution_count": 6,
   "id": "f7439cae-6e0e-42a7-9cf3-ad2ddf39f18b",
   "metadata": {},
   "outputs": [
    {
     "data": {
      "text/plain": [
       "[1441, 1442, 1443, 1445]"
      ]
     },
     "execution_count": 6,
     "metadata": {},
     "output_type": "execute_result"
    }
   ],
   "source": [
    "r[\"ID\"]"
   ]
  },
  {
   "cell_type": "code",
   "execution_count": 7,
   "id": "25273b5b-e9bf-4165-8377-86f76b597649",
   "metadata": {},
   "outputs": [
    {
     "data": {
      "text/plain": [
       "list"
      ]
     },
     "execution_count": 7,
     "metadata": {},
     "output_type": "execute_result"
    }
   ],
   "source": [
    "type(r[\"ID\"])"
   ]
  },
  {
   "cell_type": "code",
   "execution_count": 23,
   "id": "22757d73-f354-4668-b097-36435c773510",
   "metadata": {},
   "outputs": [],
   "source": [
    "#ADD a value in the key\n",
    "# 1. at the end\n",
    "# 2.any particular index value\n",
    "# 3. replace"
   ]
  },
  {
   "cell_type": "code",
   "execution_count": 9,
   "id": "e7557a81-cb57-42e5-91c5-5ede1dd69d42",
   "metadata": {},
   "outputs": [],
   "source": [
    "#at the end\n",
    "r[\"ID\"].append(1446)"
   ]
  },
  {
   "cell_type": "raw",
   "id": "ea6c97f0-6388-4a7b-a915-87bd055d254b",
   "metadata": {},
   "source": [
    "r"
   ]
  },
  {
   "cell_type": "code",
   "execution_count": 11,
   "id": "80002fb5-cd54-4f92-8a3f-74da1bdd6406",
   "metadata": {},
   "outputs": [],
   "source": [
    "#at any particular index value\n",
    "r[\"ID\"].insert(0,1440)"
   ]
  },
  {
   "cell_type": "code",
   "execution_count": 12,
   "id": "d8327179-343b-4880-ad9b-291455c5deea",
   "metadata": {},
   "outputs": [
    {
     "data": {
      "text/plain": [
       "{'ID': [1440, 1441, 1442, 1443, 1445, 1446],\n",
       " 'JOB': ['HR', 'Manager', 'CA', 'CS']}"
      ]
     },
     "execution_count": 12,
     "metadata": {},
     "output_type": "execute_result"
    }
   ],
   "source": [
    "r"
   ]
  },
  {
   "cell_type": "code",
   "execution_count": 13,
   "id": "6f3fce5e-e117-43b5-8364-35dcf7c680b4",
   "metadata": {},
   "outputs": [],
   "source": [
    "#replace\n",
    "r[\"ID\"][0]=1000"
   ]
  },
  {
   "cell_type": "code",
   "execution_count": 14,
   "id": "48eacda7-73dd-47b3-a2a7-16ccfdaad1d3",
   "metadata": {},
   "outputs": [
    {
     "data": {
      "text/plain": [
       "{'ID': [1000, 1441, 1442, 1443, 1445, 1446],\n",
       " 'JOB': ['HR', 'Manager', 'CA', 'CS']}"
      ]
     },
     "execution_count": 14,
     "metadata": {},
     "output_type": "execute_result"
    }
   ],
   "source": [
    "r"
   ]
  },
  {
   "cell_type": "code",
   "execution_count": 10,
   "id": "070f0925-b0c6-4548-b79c-f1da8f82aafa",
   "metadata": {},
   "outputs": [],
   "source": [
    "#if we want to delete any value\n",
    "#1.from last\n",
    "#2.any index value\n",
    "#3.value"
   ]
  },
  {
   "cell_type": "code",
   "execution_count": 15,
   "id": "e6973332-db75-430c-a3f5-f1ad84fe52da",
   "metadata": {},
   "outputs": [
    {
     "data": {
      "text/plain": [
       "1446"
      ]
     },
     "execution_count": 15,
     "metadata": {},
     "output_type": "execute_result"
    }
   ],
   "source": [
    "#from last\n",
    "r[\"ID\"].pop()"
   ]
  },
  {
   "cell_type": "raw",
   "id": "76d6b126-c764-4712-a697-1f9588e73cc8",
   "metadata": {},
   "source": [
    "r"
   ]
  },
  {
   "cell_type": "code",
   "execution_count": 19,
   "id": "92b502d8-17e5-4137-a852-b7ec34922ea7",
   "metadata": {},
   "outputs": [
    {
     "data": {
      "text/plain": [
       "1441"
      ]
     },
     "execution_count": 19,
     "metadata": {},
     "output_type": "execute_result"
    }
   ],
   "source": [
    "#any index value\n",
    "r[\"ID\"].pop(0)"
   ]
  },
  {
   "cell_type": "code",
   "execution_count": 16,
   "id": "e54b287a-5bb8-4430-b607-744b5d91bb4c",
   "metadata": {},
   "outputs": [
    {
     "data": {
      "text/plain": [
       "2"
      ]
     },
     "execution_count": 16,
     "metadata": {},
     "output_type": "execute_result"
    }
   ],
   "source": [
    "#\n",
    "round(len(r[\"ID\"])/2)"
   ]
  },
  {
   "cell_type": "code",
   "execution_count": 17,
   "id": "a55dc091-36f7-436e-a036-8c8fe5623290",
   "metadata": {},
   "outputs": [
    {
     "data": {
      "text/plain": [
       "1442"
      ]
     },
     "execution_count": 17,
     "metadata": {},
     "output_type": "execute_result"
    }
   ],
   "source": [
    "r[\"ID\"].pop(2)"
   ]
  },
  {
   "cell_type": "code",
   "execution_count": 20,
   "id": "a3cfe1b8-8952-440f-bab5-48db59573873",
   "metadata": {},
   "outputs": [
    {
     "data": {
      "text/plain": [
       "{'ID': [1443, 1445], 'JOB': ['HR', 'Manager', 'CA', 'CS']}"
      ]
     },
     "execution_count": 20,
     "metadata": {},
     "output_type": "execute_result"
    }
   ],
   "source": [
    "r"
   ]
  },
  {
   "cell_type": "code",
   "execution_count": 21,
   "id": "5e5e59d8-74f7-4da7-9b1a-e4398e1b2d6e",
   "metadata": {},
   "outputs": [],
   "source": [
    "r[\"ID\"].remove(1443)"
   ]
  },
  {
   "cell_type": "code",
   "execution_count": 22,
   "id": "d015c94c-369e-4cbb-8f5d-832b7abaaccb",
   "metadata": {},
   "outputs": [
    {
     "data": {
      "text/plain": [
       "{'ID': [1445], 'JOB': ['HR', 'Manager', 'CA', 'CS']}"
      ]
     },
     "execution_count": 22,
     "metadata": {},
     "output_type": "execute_result"
    }
   ],
   "source": [
    "r"
   ]
  },
  {
   "cell_type": "code",
   "execution_count": null,
   "id": "3fa62fb0-5452-47a2-97bf-08ef50eca69d",
   "metadata": {},
   "outputs": [],
   "source": []
  },
  {
   "cell_type": "code",
   "execution_count": null,
   "id": "24991944-8024-4bb0-92cb-7f1498df4511",
   "metadata": {},
   "outputs": [],
   "source": []
  }
 ],
 "metadata": {
  "kernelspec": {
   "display_name": "Python 3 (ipykernel)",
   "language": "python",
   "name": "python3"
  },
  "language_info": {
   "codemirror_mode": {
    "name": "ipython",
    "version": 3
   },
   "file_extension": ".py",
   "mimetype": "text/x-python",
   "name": "python",
   "nbconvert_exporter": "python",
   "pygments_lexer": "ipython3",
   "version": "3.12.4"
  }
 },
 "nbformat": 4,
 "nbformat_minor": 5
}
