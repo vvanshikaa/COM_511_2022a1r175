{
 "cells": [
  {
   "cell_type": "markdown",
   "id": "0dd3cfc5-488a-4e89-9346-a22bac23e5c2",
   "metadata": {},
   "source": [
    "### Syntax \n",
    "\n",
    "\n",
    "if condition1:\n",
    "\n",
    "    print(\"Statement 1\")\n",
    "    \n",
    "elif condition2:\n",
    "\n",
    "    print(\"Statement 2\")\n",
    "    \n",
    "elif condition3:\n",
    "\n",
    "    print(\"Statement 3\")\n",
    "\n",
    "else:\n",
    "    \n",
    "    print(\"last statement\")\n",
    "    \n",
    "    "
   ]
  },
  {
   "cell_type": "markdown",
   "id": "2a263c56-3f6c-41a3-8a0c-c857dcbea7db",
   "metadata": {},
   "source": [
    "#### Check if x is +ve or -ve"
   ]
  },
  {
   "cell_type": "code",
   "execution_count": 3,
   "id": "d4192251-becb-40a3-92cb-a6761157620a",
   "metadata": {},
   "outputs": [
    {
     "name": "stdin",
     "output_type": "stream",
     "text": [
      "Enter the number :  6\n"
     ]
    },
    {
     "name": "stdout",
     "output_type": "stream",
     "text": [
      "6.0 is positive\n"
     ]
    }
   ],
   "source": [
    "x = float(input(\"Enter the number : \"))\n",
    "if x>0:\n",
    "    print(x,\"is positive\")\n",
    "else:\n",
    "    print(x,\"is negative\")"
   ]
  },
  {
   "cell_type": "code",
   "execution_count": 5,
   "id": "70e3d74e-d71f-49a5-978d-5e9171ef3527",
   "metadata": {},
   "outputs": [
    {
     "name": "stdin",
     "output_type": "stream",
     "text": [
      "Enter the number :  0\n"
     ]
    },
    {
     "name": "stdout",
     "output_type": "stream",
     "text": [
      "0.0 is zero\n"
     ]
    }
   ],
   "source": [
    "x = float(input(\"Enter the number : \"))\n",
    "if x>0:\n",
    "    print(x,\"is positive\")\n",
    "elif x==0:\n",
    "    print(x,\"is zero\")\n",
    "else:\n",
    "    print(x,\"is negative\")\n",
    "    "
   ]
  },
  {
   "cell_type": "markdown",
   "id": "0d8a0169-7e8d-41ca-9794-07968e134a80",
   "metadata": {},
   "source": [
    "#### Check if x is more than 20 or less than 20 or equals to 20"
   ]
  },
  {
   "cell_type": "code",
   "execution_count": 8,
   "id": "7d0a1ed9-33f4-4b0b-a27f-ee52c682f927",
   "metadata": {},
   "outputs": [
    {
     "name": "stdin",
     "output_type": "stream",
     "text": [
      "Enter the number :  10\n"
     ]
    },
    {
     "name": "stdout",
     "output_type": "stream",
     "text": [
      "10.0 is less than 20\n"
     ]
    }
   ],
   "source": [
    "x = float(input(\"Enter the number : \"))\n",
    "if x>20:\n",
    "    print(x,\"is more than 20\")\n",
    "elif x==20:\n",
    "    print(x,\"is equals to 20\")\n",
    "else:\n",
    "    print(x,\"is less than 20\")"
   ]
  },
  {
   "cell_type": "markdown",
   "id": "97fec2bf-83ef-4890-9fca-3d0fb4aeae7f",
   "metadata": {},
   "source": [
    "#### Check if x is even or odd"
   ]
  },
  {
   "cell_type": "code",
   "execution_count": 9,
   "id": "6ce1d404-d378-4743-a48e-5d33158b20c8",
   "metadata": {},
   "outputs": [
    {
     "name": "stdin",
     "output_type": "stream",
     "text": [
      "Enter the number :  3\n"
     ]
    },
    {
     "name": "stdout",
     "output_type": "stream",
     "text": [
      "3.0 is odd\n"
     ]
    }
   ],
   "source": [
    "x = float(input(\"Enter the number : \"))\n",
    "if x%2==0:\n",
    "    print(x,\"is even\")\n",
    "else:\n",
    "    print(x,\"is odd\")"
   ]
  },
  {
   "cell_type": "code",
   "execution_count": 10,
   "id": "e13657c0-0ba9-4530-af37-764a41a7f84a",
   "metadata": {},
   "outputs": [
    {
     "name": "stdin",
     "output_type": "stream",
     "text": [
      "Enter the number :  4\n"
     ]
    },
    {
     "name": "stdout",
     "output_type": "stream",
     "text": [
      "4.0 is even\n"
     ]
    }
   ],
   "source": [
    "x = float(input(\"Enter the number : \"))\n",
    "if x%2!=0:\n",
    "    print(x,\"is odd\")\n",
    "else:\n",
    "    print(x,\"is even\")"
   ]
  },
  {
   "cell_type": "code",
   "execution_count": 11,
   "id": "a0bd0128-056b-46ef-91ef-57c48b24b725",
   "metadata": {},
   "outputs": [],
   "source": [
    "#if x is odd calculate square\n",
    "#if x is even calculate cube"
   ]
  },
  {
   "cell_type": "code",
   "execution_count": 12,
   "id": "26a133aa-e4af-4242-85de-796b49714511",
   "metadata": {},
   "outputs": [
    {
     "name": "stdin",
     "output_type": "stream",
     "text": [
      "Enter the number :  5\n"
     ]
    },
    {
     "name": "stdout",
     "output_type": "stream",
     "text": [
      "25.0 square of x cause it is odd\n"
     ]
    }
   ],
   "source": [
    "x = float(input(\"Enter the number : \"))\n",
    "if x%2==0:\n",
    "    print(x**3,\"cube of x cause it is even\")\n",
    "else:\n",
    "    print(x**2,\"square of x cause it is odd\")"
   ]
  },
  {
   "cell_type": "code",
   "execution_count": 13,
   "id": "a5f81dde-0b6f-4c2f-8733-d8319661fb5a",
   "metadata": {},
   "outputs": [
    {
     "name": "stdin",
     "output_type": "stream",
     "text": [
      "Enter the number :  8\n"
     ]
    },
    {
     "name": "stdout",
     "output_type": "stream",
     "text": [
      "512.0 is the cube of 8.0 cause it is even\n"
     ]
    }
   ],
   "source": [
    "x = float(input(\"Enter the number : \"))\n",
    "if x%2==0:\n",
    "    y=x**3\n",
    "    print(\"{} is the cube of {} cause it is even\".format(y,x))\n",
    "else:\n",
    "    y=x**2\n",
    "    print(\"{} is the square of {} cause it is odd\".format(y,x))\n",
    "    "
   ]
  },
  {
   "cell_type": "code",
   "execution_count": 14,
   "id": "c3d8b76f-a4db-45b5-81bb-36a86b93d90c",
   "metadata": {},
   "outputs": [],
   "source": [
    "#if x is more than 100 & odd calculate square\n",
    "#if x is less than 100 & even calculate cube"
   ]
  },
  {
   "cell_type": "code",
   "execution_count": 17,
   "id": "94ae23c8-6471-4790-a7c9-584c519273f8",
   "metadata": {},
   "outputs": [
    {
     "name": "stdin",
     "output_type": "stream",
     "text": [
      "Enter the number :  6\n"
     ]
    },
    {
     "name": "stdout",
     "output_type": "stream",
     "text": [
      "216.0 cube of x cause it is odd\n"
     ]
    }
   ],
   "source": [
    "x = float(input(\"Enter the number : \"))\n",
    "if x>100 and x%2!=0:\n",
    "    print(x**2,\"square of x cause it is odd\")\n",
    "elif x<100 and x%2==0 :\n",
    "    print(x**3,\"cube of x cause it is odd\")"
   ]
  },
  {
   "cell_type": "code",
   "execution_count": null,
   "id": "6e0b4174-f7a5-46d6-a285-9ae165a199d6",
   "metadata": {},
   "outputs": [],
   "source": [
    "#if x is more than 100 and odd then caluclate square\n",
    "#if x is more than 100 and even then caluclate square root\n",
    "#if x is less than 100 & odd calculate cube\n",
    "#if x is less than 100 & even calculate cube root\n",
    "#else: print x is equals to 100"
   ]
  },
  {
   "cell_type": "code",
   "execution_count": 13,
   "id": "bf0008d4-a47e-48c1-93a9-d90139483007",
   "metadata": {},
   "outputs": [
    {
     "name": "stdin",
     "output_type": "stream",
     "text": [
      "Enter the number :  100\n"
     ]
    },
    {
     "name": "stdout",
     "output_type": "stream",
     "text": [
      "100.0  is equals to 100\n"
     ]
    }
   ],
   "source": [
    "x = float(input(\"Enter the number : \"))\n",
    "if x>100 and x%2!=0:\n",
    "    print(x**2,\"square of x cause it is greater than 100 and odd\")\n",
    "elif x>100 and x%2==0 :\n",
    "    print(x**(1/2),\"square root of x cause it is greater than 100 and even\")\n",
    "elif x<100 and x%2!=0 :\n",
    "    print(x**3,\"cube of x cause it is less than 100 and odd\")\n",
    "elif x<100 and x%2==0 :\n",
    "    print(x**(1/3),\"cube root of x cause it is less than 100 and even\")  \n",
    "else:\n",
    "    print(x,\" is equals to 100\")"
   ]
  },
  {
   "cell_type": "code",
   "execution_count": null,
   "id": "760ee832-1c6d-4b02-983b-88e2f73ba19f",
   "metadata": {},
   "outputs": [],
   "source": [
    "#check the data type of x using conditional statement"
   ]
  },
  {
   "cell_type": "code",
   "execution_count": 16,
   "id": "c87a7827-2bd0-4eac-a40c-c1b48d2e2575",
   "metadata": {},
   "outputs": [
    {
     "name": "stdout",
     "output_type": "stream",
     "text": [
      "x is integer\n"
     ]
    }
   ],
   "source": [
    "x = 10\n",
    "if type(x)==float:\n",
    "    print(\"x is float\")\n",
    "elif type(x)==int:\n",
    "    print(\"x is integer\")\n",
    "elif type(x)==str:\n",
    "    print(\"x is string\") \n",
    "elif type(x)==bool:\n",
    "    print(\"x is boolean\")\n",
    "    \n",
    "    "
   ]
  },
  {
   "cell_type": "code",
   "execution_count": 17,
   "id": "59a278cb-8235-4c54-bc86-8b4406cbf0dd",
   "metadata": {},
   "outputs": [],
   "source": [
    "#check if the x starts with a"
   ]
  },
  {
   "cell_type": "code",
   "execution_count": 18,
   "id": "cf9cfdd3-5272-4713-8838-9038cbb4a726",
   "metadata": {},
   "outputs": [
    {
     "name": "stdin",
     "output_type": "stream",
     "text": [
      "Enter the string: acbd\n"
     ]
    },
    {
     "name": "stdout",
     "output_type": "stream",
     "text": [
      "string starts with a\n"
     ]
    }
   ],
   "source": [
    "s = input(\"Enter the string:\")\n",
    "if s[0] == \"a\":\n",
    "    print(\"string starts with a\")\n",
    "else:\n",
    "    print(\"string does not starts with a\")"
   ]
  },
  {
   "cell_type": "code",
   "execution_count": 21,
   "id": "f0c3ab2e-befb-4eeb-a85a-323eab6dfba3",
   "metadata": {},
   "outputs": [],
   "source": [
    "#check if the x endss with t"
   ]
  },
  {
   "cell_type": "code",
   "execution_count": 20,
   "id": "f3d665a0-f9cd-4562-b919-6415a80eb3e5",
   "metadata": {},
   "outputs": [
    {
     "name": "stdin",
     "output_type": "stream",
     "text": [
      "Enter the string: ant\n"
     ]
    },
    {
     "name": "stdout",
     "output_type": "stream",
     "text": [
      "string ends with t\n"
     ]
    }
   ],
   "source": [
    "s = input(\"Enter the string:\")\n",
    "if s[-1] == \"t\":\n",
    "    print(\"string ends with t\")\n",
    "else:\n",
    "    print(\"string does not ends with t\")"
   ]
  },
  {
   "cell_type": "code",
   "execution_count": null,
   "id": "dda59409-7a45-414b-86cf-5c228df8d29b",
   "metadata": {},
   "outputs": [],
   "source": [
    "#check if string starts with a and ends with a\n",
    "#check if string starts with a and ends with r\n",
    "#check if string doesnot starts with a and ends with r\n",
    "\n"
   ]
  },
  {
   "cell_type": "code",
   "execution_count": 23,
   "id": "6ba95059-babb-48a9-a89a-be3ae1a2eccf",
   "metadata": {},
   "outputs": [
    {
     "name": "stdin",
     "output_type": "stream",
     "text": [
      "Enter the string: air\n"
     ]
    },
    {
     "name": "stdout",
     "output_type": "stream",
     "text": [
      "string starts with a and ends with r \n"
     ]
    }
   ],
   "source": [
    "s = input(\"Enter the string:\")\n",
    "if s[0] == \"a\" and s[-1] == \"a\":\n",
    "    print(\"string starts with a and ends with a\")\n",
    "elif s[0] == \"a\" and s[-1] == \"r\":\n",
    "    print(\"string starts with a and ends with r \")\n",
    "elif s[0] != \"a\" and s[-1] != \"r\":\n",
    "    print(\"string does not starts with a and ends with r\")\n",
    "else:\n",
    "    print(\"string is different\")"
   ]
  },
  {
   "cell_type": "code",
   "execution_count": 24,
   "id": "4582b41b-a978-4c47-a31c-9a83bbc239e0",
   "metadata": {},
   "outputs": [],
   "source": [
    "#check if ist letter is uppercase or lowercase"
   ]
  },
  {
   "cell_type": "code",
   "execution_count": 32,
   "id": "eee5839c-15c0-4966-b2b6-8beea083f75b",
   "metadata": {},
   "outputs": [
    {
     "name": "stdin",
     "output_type": "stream",
     "text": [
      "Enter the string: Ant\n"
     ]
    },
    {
     "name": "stdout",
     "output_type": "stream",
     "text": [
      "ist letter is in uppercase\n"
     ]
    }
   ],
   "source": [
    "s = input(\"Enter the string:\")\n",
    "if s[0] == s[0].upper():\n",
    "    print(\"ist letter is in uppercase\")\n",
    "else:\n",
    "    print(\"ist letter is in lowercase\") \n"
   ]
  },
  {
   "cell_type": "code",
   "execution_count": null,
   "id": "9d39594c-b0b8-4998-a71d-bb62cab7be4f",
   "metadata": {},
   "outputs": [],
   "source": [
    " #check if length of string is more than 6 or not "
   ]
  },
  {
   "cell_type": "code",
   "execution_count": 36,
   "id": "3845d125-9c4d-4410-b83b-12f11adbf6b8",
   "metadata": {},
   "outputs": [
    {
     "name": "stdin",
     "output_type": "stream",
     "text": [
      "Enter the string: tushar\n"
     ]
    },
    {
     "name": "stdout",
     "output_type": "stream",
     "text": [
      "equals to\n"
     ]
    }
   ],
   "source": [
    "s = input(\"Enter the string:\")\n",
    "if len(s)>6:\n",
    "    print(\"more than\")\n",
    "elif len(s)<6:\n",
    "    print(\"less than\") \n",
    "else:\n",
    "    print(\"equals to\")"
   ]
  },
  {
   "cell_type": "code",
   "execution_count": 37,
   "id": "2ea019fe-6f69-4ed5-b54c-79e0f083f89f",
   "metadata": {},
   "outputs": [],
   "source": [
    "#check if the count of spaces is more than 5 or not"
   ]
  },
  {
   "cell_type": "code",
   "execution_count": 41,
   "id": "e4d99328-5580-4e0f-a678-7895f115f32b",
   "metadata": {},
   "outputs": [
    {
     "name": "stdin",
     "output_type": "stream",
     "text": [
      "Enter the string: v a n s h i k a\n"
     ]
    },
    {
     "name": "stdout",
     "output_type": "stream",
     "text": [
      "more than\n"
     ]
    }
   ],
   "source": [
    "s = input(\"Enter the string:\")\n",
    "if (s.count(\" \")>5):\n",
    "    print(\"more than\")\n",
    "else:\n",
    "    print(\"less than\") \n"
   ]
  },
  {
   "cell_type": "markdown",
   "id": "d02dfb9c-0ed5-4980-a7d6-30e479db35a3",
   "metadata": {},
   "source": [
    "##### Nested If"
   ]
  },
  {
   "cell_type": "code",
   "execution_count": 3,
   "id": "d45898bc-20ee-4988-8a6f-5013428b7276",
   "metadata": {},
   "outputs": [
    {
     "name": "stdin",
     "output_type": "stream",
     "text": [
      "age 14\n"
     ]
    },
    {
     "name": "stdout",
     "output_type": "stream",
     "text": [
      "teenager\n",
      "minor\n"
     ]
    }
   ],
   "source": [
    "age = int(input(\"age\"))\n",
    "if age<18:\n",
    "    print(\"teenager\")\n",
    "    if age<16:\n",
    "        print(\"minor\")\n",
    "        if age<12:\n",
    "            print(\"kid\")"
   ]
  },
  {
   "cell_type": "code",
   "execution_count": 11,
   "id": "3755ec17-99ec-4800-898e-f3c215f0d58e",
   "metadata": {},
   "outputs": [
    {
     "name": "stdin",
     "output_type": "stream",
     "text": [
      "enter the name of the shape: triangle\n",
      "enter what you want in triangle: cube\n"
     ]
    },
    {
     "name": "stdout",
     "output_type": "stream",
     "text": [
      "no statement\n"
     ]
    }
   ],
   "source": [
    "name = input(\"enter the name of the shape:\")\n",
    "if name.lower() == \"triangle\":\n",
    "    g = input(\"enter what you want in triangle:\")\n",
    "    if g.lower() == \"area\":\n",
    "        print(\"area of triangle is ==> 1/2*b*h\")\n",
    "    elif g.lower() == \"parameter\":\n",
    "        print(\"parameter of triangle is A+B+C\")\n",
    "    else:\n",
    "        print(\"no statement\")\n",
    "elif name.lower() == \"cube\":\n",
    "    g = input(\"enter what you want in cube:\") \n",
    "    if g.lower() == \"area\":\n",
    "        print(\"area of cube is ==> side**3\")\n",
    "    elif g.lower() == \"parameter\":\n",
    "        print(\"parameter of cube is 6a**2\")"
   ]
  },
  {
   "cell_type": "code",
   "execution_count": 12,
   "id": "c1240855-dea1-4377-9ea6-165fac7fe825",
   "metadata": {},
   "outputs": [
    {
     "name": "stdin",
     "output_type": "stream",
     "text": [
      "enter the name of the shape: triangle\n",
      "enter what you want in triangle: parameter\n",
      "enter the a  12\n",
      "enter the b  15\n",
      "enter the c  18\n"
     ]
    },
    {
     "name": "stdout",
     "output_type": "stream",
     "text": [
      "45.0 is the parameter of triangle\n"
     ]
    }
   ],
   "source": [
    "name = input(\"enter the name of the shape:\")\n",
    "if name.lower() == \"triangle\":\n",
    "    g = input(\"enter what you want in triangle:\")\n",
    "    if g.lower() == \"area\":\n",
    "       h = float(input(\"enter the height \"))\n",
    "       b = float(input(\"enter the breadth \")) \n",
    "       area = (1/2)*b*h\n",
    "       print(area,\"is the area of triangle \")\n",
    "    elif g.lower() == \"parameter\":\n",
    "        a = float(input(\"enter the a \"))\n",
    "        b = float(input(\"enter the b \"))\n",
    "        c = float(input(\"enter the c \"))\n",
    "        parameter = a+b+c\n",
    "        print(parameter,\"is the parameter of triangle\")"
   ]
  },
  {
   "cell_type": "code",
   "execution_count": null,
   "id": "5e0cf39f-2109-4ae7-a421-45a998b0493f",
   "metadata": {},
   "outputs": [],
   "source": [
    "name = input(\"enter the name of the shape:\")\n",
    "if name.lower() == \"triangle\":\n",
    "    g = input(\"enter what you want in triangle:\")\n",
    "    if g.lower() == \"area\":\n",
    "       h = float(input(\"enter the height \"))\n",
    "       b = float(input(\"enter the breadth \")) \n",
    "       area = (1/2)*b*h\n",
    "       print(area,\"is the area of triangle \")\n",
    "    elif g.lower() == \"parameter\":\n",
    "        a = float(input(\"enter the a \"))\n",
    "        b = float(input(\"enter the b \"))\n",
    "        c = float(input(\"enter the c \"))\n",
    "        parameter = a+b+c\n",
    "        print(parameter,\"is the parameter of triangle\")"
   ]
  },
  {
   "cell_type": "code",
   "execution_count": null,
   "id": "c6650afa-8406-48cf-9462-4821caf3b732",
   "metadata": {},
   "outputs": [],
   "source": []
  },
  {
   "cell_type": "code",
   "execution_count": null,
   "id": "c2fd73d8-699c-4ead-9be3-19159b81d862",
   "metadata": {},
   "outputs": [],
   "source": []
  },
  {
   "cell_type": "code",
   "execution_count": null,
   "id": "852304aa-aa43-48bf-8cd3-b6b60eba31f7",
   "metadata": {},
   "outputs": [],
   "source": []
  },
  {
   "cell_type": "code",
   "execution_count": null,
   "id": "36f026cb-4105-42c4-b4eb-e0065df6f836",
   "metadata": {},
   "outputs": [],
   "source": []
  },
  {
   "cell_type": "code",
   "execution_count": null,
   "id": "ae085f6d-38b7-4458-b334-392876319c36",
   "metadata": {},
   "outputs": [],
   "source": []
  },
  {
   "cell_type": "code",
   "execution_count": null,
   "id": "f1207b6b-16c8-43d6-86ec-4d92d56071ba",
   "metadata": {},
   "outputs": [],
   "source": []
  }
 ],
 "metadata": {
  "kernelspec": {
   "display_name": "Python 3 (ipykernel)",
   "language": "python",
   "name": "python3"
  },
  "language_info": {
   "codemirror_mode": {
    "name": "ipython",
    "version": 3
   },
   "file_extension": ".py",
   "mimetype": "text/x-python",
   "name": "python",
   "nbconvert_exporter": "python",
   "pygments_lexer": "ipython3",
   "version": "3.12.4"
  }
 },
 "nbformat": 4,
 "nbformat_minor": 5
}
