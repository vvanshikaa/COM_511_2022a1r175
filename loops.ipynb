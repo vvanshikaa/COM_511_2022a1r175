{
 "cells": [
  {
   "cell_type": "code",
   "execution_count": null,
   "id": "5a4b5665-35a5-42a4-b207-1ab9717ec628",
   "metadata": {},
   "outputs": [],
   "source": [
    "l = [1,2,3,4,5,6]\n",
    "#for variable in l:"
   ]
  },
  {
   "cell_type": "code",
   "execution_count": 1,
   "id": "d912f784-2ce3-4761-bbc5-d03581fb109b",
   "metadata": {},
   "outputs": [
    {
     "name": "stdout",
     "output_type": "stream",
     "text": [
      "1\n",
      "2\n",
      "3\n",
      "4\n",
      "5\n",
      "6\n"
     ]
    }
   ],
   "source": [
    "l = [1,2,3,4,5,6]\n",
    "for i in l:\n",
    "    print(i)"
   ]
  },
  {
   "cell_type": "code",
   "execution_count": 2,
   "id": "83c2f29e-a5e9-4a28-8f7b-d624a461bff0",
   "metadata": {},
   "outputs": [
    {
     "name": "stdout",
     "output_type": "stream",
     "text": [
      "a\n",
      "b\n",
      "c\n",
      "d\n",
      "e\n",
      "True\n"
     ]
    }
   ],
   "source": [
    "g = [\"a\",\"b\",\"c\",\"d\",\"e\",True]\n",
    "for f in g:\n",
    "    print(f)\n"
   ]
  },
  {
   "cell_type": "code",
   "execution_count": 3,
   "id": "72427eef-5d75-4032-a66d-7a6bb57a57af",
   "metadata": {},
   "outputs": [
    {
     "name": "stdout",
     "output_type": "stream",
     "text": [
      "7\n",
      "8\n",
      "9\n",
      "6\n"
     ]
    }
   ],
   "source": [
    "#extract those element which is more than 5\n",
    "w = [1,4,7,8,9,6,3,2,4,5,3,2,5]\n",
    "for j in w:\n",
    "    if j>5:\n",
    "        print(j)"
   ]
  },
  {
   "cell_type": "code",
   "execution_count": 4,
   "id": "fde36fbb-1528-479b-ac6f-8fc4f3d9a4e7",
   "metadata": {},
   "outputs": [
    {
     "name": "stdout",
     "output_type": "stream",
     "text": [
      "4\n",
      "8\n",
      "6\n",
      "2\n",
      "4\n",
      "2\n"
     ]
    }
   ],
   "source": [
    "#extract even elements from the list\n",
    "w = [1,4,7,8,9,6,3,2,4,5,3,2,5]\n",
    "for j in w:\n",
    "    if j%2==0:\n",
    "        print(j)"
   ]
  },
  {
   "cell_type": "code",
   "execution_count": 6,
   "id": "62d92481-3dcf-4b46-9916-fde408b06a71",
   "metadata": {},
   "outputs": [
    {
     "name": "stdout",
     "output_type": "stream",
     "text": [
      "4\n",
      "6\n",
      "4\n",
      "5\n",
      "5\n"
     ]
    }
   ],
   "source": [
    "#extract elements btw 3 & 7\n",
    "w = [1,4,7,8,9,6,3,2,4,5,3,2,5]\n",
    "for j in w:\n",
    "    if j>3 and j<7:\n",
    "        print(j)"
   ]
  },
  {
   "cell_type": "code",
   "execution_count": 7,
   "id": "348c9e1e-faee-45af-a588-44051b139b10",
   "metadata": {},
   "outputs": [
    {
     "name": "stdout",
     "output_type": "stream",
     "text": [
      "16\n",
      "64\n",
      "36\n",
      "4\n",
      "16\n",
      "4\n"
     ]
    }
   ],
   "source": [
    "#calculate the square of even elements\n",
    "#extract even elements from the list\n",
    "w = [1,4,7,8,9,6,3,2,4,5,3,2,5]\n",
    "for j in w:\n",
    "    if j%2==0:\n",
    "        print(j**2)"
   ]
  },
  {
   "cell_type": "code",
   "execution_count": 11,
   "id": "77ee58ef-5602-45dd-ae19-f9abd5824ec6",
   "metadata": {},
   "outputs": [
    {
     "name": "stdout",
     "output_type": "stream",
     "text": [
      "abhiniza\n",
      "aman\n",
      "aastha\n"
     ]
    }
   ],
   "source": [
    "#print those names which starts with \"a\"\n",
    "name = [\"rohan\",\"abhiniza\",\"robin\",\"karan\",\"aman\",\"pankaj\",\"aastha\"]\n",
    "for j in name:\n",
    "    if j[0]==\"a\":\n",
    "        print(j)"
   ]
  },
  {
   "cell_type": "code",
   "execution_count": 13,
   "id": "504b0cae-fcf1-49b7-8737-9b9b1ca662ce",
   "metadata": {},
   "outputs": [
    {
     "name": "stdout",
     "output_type": "stream",
     "text": [
      "abhiniza\n",
      "aastha\n"
     ]
    }
   ],
   "source": [
    "#print those names which starts with \"a\" & ends with \"a\"\n",
    "name = [\"rohan\",\"abhiniza\",\"robin\",\"karan\",\"aman\",\"pankaj\",\"aastha\"]\n",
    "for j in name:\n",
    "    if j.startswith(\"a\") and j.endswith(\"a\"):\n",
    "        print(j)"
   ]
  },
  {
   "cell_type": "code",
   "execution_count": 15,
   "id": "e1257d64-fb52-46ba-ae31-44b3736403f7",
   "metadata": {},
   "outputs": [
    {
     "name": "stdout",
     "output_type": "stream",
     "text": [
      "roha\n",
      "abhi\n",
      "robi\n",
      "kara\n",
      "aman\n",
      "pank\n",
      "aast\n"
     ]
    }
   ],
   "source": [
    "#print ist 4 letters of all names\n",
    "name = [\"rohan\",\"abhiniza\",\"robin\",\"karan\",\"aman\",\"pankaj\",\"aastha\"]\n",
    "for j in name:\n",
    "        print(j[0:4])"
   ]
  },
  {
   "cell_type": "code",
   "execution_count": 16,
   "id": "4072606c-dacf-4a68-ab23-3a0f0d3d3e91",
   "metadata": {},
   "outputs": [
    {
     "name": "stdout",
     "output_type": "stream",
     "text": [
      "2000\n",
      "2004\n",
      "2008\n"
     ]
    }
   ],
   "source": [
    "#print all leap years\n",
    "year = [2000,2001,2002,2003,2004,2005,2006,2007,2008,2009,2010]\n",
    "for i in year:\n",
    "    if i%4==0 and i%100!=0 or i%400==0:\n",
    "        print(i)"
   ]
  },
  {
   "cell_type": "code",
   "execution_count": 4,
   "id": "fb1ca29d-5323-420b-9238-d44afd0de0f3",
   "metadata": {},
   "outputs": [],
   "source": [
    "#interview question\n",
    "#print the 2nd highest element\n",
    "s = [4,7,8,5,2,3,6,9,6,5,6,3,2]\n",
    "\n",
    "    "
   ]
  },
  {
   "cell_type": "code",
   "execution_count": 2,
   "id": "ffc173b4-e9d6-4534-b7e7-b4d56a7b1543",
   "metadata": {},
   "outputs": [
    {
     "data": {
      "text/plain": [
       "[2, 2, 3, 3, 4, 5, 5, 6, 6, 6, 7, 8, 9]"
      ]
     },
     "execution_count": 2,
     "metadata": {},
     "output_type": "execute_result"
    }
   ],
   "source": [
    "s.sort()\n",
    "s"
   ]
  },
  {
   "cell_type": "code",
   "execution_count": 3,
   "id": "a8812936-4283-4c38-81a5-331f8a25bcd5",
   "metadata": {},
   "outputs": [
    {
     "name": "stdout",
     "output_type": "stream",
     "text": [
      "8\n"
     ]
    }
   ],
   "source": [
    "s.sort()\n",
    "index= -2\n",
    "for i in s:\n",
    "    if s[index]==max(s):\n",
    "        index-=1\n",
    "\n",
    "print(s[index])"
   ]
  },
  {
   "cell_type": "code",
   "execution_count": 5,
   "id": "30cfa5fd-760e-42d4-91b9-bd272c7b6a76",
   "metadata": {},
   "outputs": [
    {
     "name": "stdout",
     "output_type": "stream",
     "text": [
      "8\n"
     ]
    }
   ],
   "source": [
    "s=[4,7,8,5,2,3,6,9,6,5,6,3,2,9,9,9,9,9]\n",
    "s.sort()\n",
    "second_element = 0\n",
    "for i in s:\n",
    "    if i>min(s) and i<max(s):\n",
    "        second_element=i\n",
    "\n",
    "print(second_element)\n",
    "    "
   ]
  },
  {
   "cell_type": "code",
   "execution_count": 6,
   "id": "243de0f5-778e-4da4-8376-78c319575555",
   "metadata": {},
   "outputs": [
    {
     "name": "stdout",
     "output_type": "stream",
     "text": [
      "hello\n",
      "how\n",
      "are\n",
      "you\n",
      "i\n",
      "am\n",
      "fine\n",
      "what\n",
      "about\n",
      "you\n"
     ]
    }
   ],
   "source": [
    "s = \"hello how are you i am fine what about you\"\n",
    "for i in s.split():\n",
    "    print(i)"
   ]
  },
  {
   "cell_type": "code",
   "execution_count": 8,
   "id": "a8a716fa-973b-4341-81a5-78ef76e1c8b6",
   "metadata": {},
   "outputs": [
    {
     "name": "stdout",
     "output_type": "stream",
     "text": [
      "2\n"
     ]
    }
   ],
   "source": [
    "#count those words that starts with h\n",
    "s = \"hello how are you i am fine what about you\"\n",
    "h = []\n",
    "for i in s.split():\n",
    "    if i[0]==\"h\":\n",
    "        h.append(i)\n",
    "print(len(h))"
   ]
  },
  {
   "cell_type": "markdown",
   "id": "8e4ea94c-349c-4b6e-9d1c-63e7a4b6b84b",
   "metadata": {},
   "source": [
    "**range**"
   ]
  },
  {
   "cell_type": "code",
   "execution_count": 10,
   "id": "17a6f40d-384a-480a-b190-d90f234d89cb",
   "metadata": {},
   "outputs": [],
   "source": [
    "#range(start,stop,step)"
   ]
  },
  {
   "cell_type": "code",
   "execution_count": 11,
   "id": "8ab40582-2fc4-47c3-ace9-1b5ba4a29b54",
   "metadata": {},
   "outputs": [],
   "source": [
    "s = \"123456\""
   ]
  },
  {
   "cell_type": "code",
   "execution_count": 12,
   "id": "d3af9216-af43-48df-b0c2-7b0aedd9597b",
   "metadata": {},
   "outputs": [
    {
     "name": "stdout",
     "output_type": "stream",
     "text": [
      "0\n",
      "1\n",
      "2\n",
      "3\n",
      "4\n",
      "5\n",
      "6\n",
      "7\n",
      "8\n",
      "9\n"
     ]
    }
   ],
   "source": [
    "for i in range(0,10):\n",
    "    print(i)\n",
    "    "
   ]
  },
  {
   "cell_type": "code",
   "execution_count": 13,
   "id": "7c4ef649-b8dc-469f-9f94-a3060931a7eb",
   "metadata": {},
   "outputs": [
    {
     "name": "stdout",
     "output_type": "stream",
     "text": [
      "0\n",
      "2\n",
      "4\n",
      "6\n",
      "8\n"
     ]
    }
   ],
   "source": [
    "for i in range(0,10,2):\n",
    "    print(i)"
   ]
  },
  {
   "cell_type": "code",
   "execution_count": 14,
   "id": "f3721dfe-7158-4f96-b6fa-34a336ec34fd",
   "metadata": {},
   "outputs": [
    {
     "name": "stdout",
     "output_type": "stream",
     "text": [
      "5\n",
      "4\n",
      "3\n",
      "2\n"
     ]
    }
   ],
   "source": [
    "for i in range(5,1,-1):\n",
    "    print(i)\n",
    "    "
   ]
  },
  {
   "cell_type": "code",
   "execution_count": 15,
   "id": "2b37063b-aa22-46e1-9749-1577c1f01955",
   "metadata": {},
   "outputs": [
    {
     "name": "stdout",
     "output_type": "stream",
     "text": [
      "10\n",
      "12\n",
      "14\n",
      "16\n",
      "18\n",
      "20\n",
      "22\n",
      "24\n",
      "26\n",
      "28\n"
     ]
    }
   ],
   "source": [
    "#print all even numbers between 10 and 50\n",
    "for j in range(10,30):\n",
    "    if j%2==0:\n",
    "        print(j)"
   ]
  },
  {
   "cell_type": "code",
   "execution_count": 16,
   "id": "0b0b01d9-6a05-4bce-895f-7524dc86187d",
   "metadata": {},
   "outputs": [
    {
     "name": "stdout",
     "output_type": "stream",
     "text": [
      "10\n",
      "12\n",
      "14\n",
      "16\n",
      "18\n",
      "20\n",
      "22\n",
      "24\n",
      "26\n",
      "28\n"
     ]
    }
   ],
   "source": [
    "#or\n",
    "for j in range(10,30,2):\n",
    "    print(j)"
   ]
  },
  {
   "cell_type": "code",
   "execution_count": 24,
   "id": "d8f6fdb7-b58a-4ffb-bf37-16a7c2eacac7",
   "metadata": {},
   "outputs": [
    {
     "name": "stdout",
     "output_type": "stream",
     "text": [
      "15\n",
      "25\n",
      "35\n",
      "45\n",
      "55\n",
      "65\n",
      "75\n",
      "85\n",
      "95\n"
     ]
    }
   ],
   "source": [
    "#print those digit where ist one is 5 btw 10 to 100\n",
    "for i in range(10,100):\n",
    "       if i%10==5:\n",
    "           print(i)"
   ]
  },
  {
   "cell_type": "code",
   "execution_count": 41,
   "id": "00dfd894-ec3e-4e2b-b747-519493c28026",
   "metadata": {},
   "outputs": [
    {
     "name": "stdout",
     "output_type": "stream",
     "text": [
      "2  x  1  =  2\n",
      "2  x  2  =  4\n",
      "2  x  3  =  6\n",
      "2  x  4  =  8\n",
      "2  x  5  =  10\n",
      "2  x  6  =  12\n",
      "2  x  7  =  14\n",
      "2  x  8  =  16\n",
      "2  x  9  =  18\n",
      "2  x  10  =  20\n"
     ]
    }
   ],
   "source": [
    "#print the table of 2\n",
    "for i in range(2,21,2):\n",
    "    print(\"{}  x  {}  =  {}\".format(2,round(i/2),i))"
   ]
  },
  {
   "cell_type": "code",
   "execution_count": 42,
   "id": "16e66d79-2168-40f8-bfa8-1803fa001c55",
   "metadata": {},
   "outputs": [
    {
     "name": "stdout",
     "output_type": "stream",
     "text": [
      "3  x  1  =  3\n",
      "3  x  2  =  6\n",
      "3  x  3  =  9\n",
      "3  x  4  =  12\n",
      "3  x  5  =  15\n",
      "3  x  6  =  18\n",
      "3  x  7  =  21\n",
      "3  x  8  =  24\n",
      "3  x  9  =  27\n",
      "3  x  10  =  30\n"
     ]
    }
   ],
   "source": [
    "#print table of 3\n",
    "n=3\n",
    "for i in range(1,11):\n",
    "    print(\"{}  x  {}  =  {}\".format(n,i,n*i))"
   ]
  },
  {
   "cell_type": "code",
   "execution_count": 47,
   "id": "ff24130c-e973-4672-bc44-76f38483b14d",
   "metadata": {},
   "outputs": [
    {
     "name": "stdout",
     "output_type": "stream",
     "text": [
      "[10, 12, 14, 16, 18, 20, 22, 24, 26, 28, 30, 32, 34, 36, 38, 40, 42, 44, 46, 48]\n",
      "[11, 13, 15, 17, 19, 21, 23, 25, 27, 29, 31, 33, 35, 37, 39, 41, 43, 45, 47, 49]\n"
     ]
    }
   ],
   "source": [
    "#interview question\n",
    "#create 2 list and add even and odd digit in both list btw 10 to 50\n",
    "even = []\n",
    "odd = []\n",
    "for i in range(10,50):\n",
    "    if i%2==0:\n",
    "        even.append(i)\n",
    "    elif i%2!=0:\n",
    "        odd.append(i)\n",
    "\n",
    "print(even)\n",
    "print(odd)\n",
    "    \n"
   ]
  },
  {
   "cell_type": "markdown",
   "id": "a199300d-f3b9-4eb6-9e07-aee48d78275d",
   "metadata": {},
   "source": [
    "#### Star Pattern"
   ]
  },
  {
   "cell_type": "code",
   "execution_count": 51,
   "id": "c26c8362-0d8c-4a1f-8ab8-4c1301f2808a",
   "metadata": {},
   "outputs": [
    {
     "name": "stdout",
     "output_type": "stream",
     "text": [
      "\n",
      "* \n",
      "* * \n",
      "* * * \n",
      "* * * * \n"
     ]
    }
   ],
   "source": [
    "\n",
    "for i in range(5):\n",
    "    print(\"* \"*i)"
   ]
  },
  {
   "cell_type": "code",
   "execution_count": 50,
   "id": "79ce0743-3c2c-4b8e-9200-265dcd03ffb2",
   "metadata": {},
   "outputs": [
    {
     "name": "stdout",
     "output_type": "stream",
     "text": [
      "* * * * \n",
      "* * * * \n",
      "* * * * \n",
      "* * * * \n"
     ]
    }
   ],
   "source": [
    "for i in range(4):\n",
    "    print(\"* \"*4)"
   ]
  },
  {
   "cell_type": "code",
   "execution_count": 2,
   "id": "73e30c25-059b-445f-87a0-e3af93cefb76",
   "metadata": {},
   "outputs": [
    {
     "name": "stdout",
     "output_type": "stream",
     "text": [
      " *  *  *  *  *  * \n",
      " *  *  *  *  * \n",
      " *  *  *  * \n",
      " *  *  * \n",
      " *  * \n",
      " * \n"
     ]
    }
   ],
   "source": [
    "for i in range(6,0,-1):\n",
    "    print(i*\" * \")"
   ]
  },
  {
   "cell_type": "code",
   "execution_count": 3,
   "id": "aeb0d542-5df7-49f9-827c-c2995bbc2f0a",
   "metadata": {},
   "outputs": [
    {
     "name": "stdout",
     "output_type": "stream",
     "text": [
      " * \n",
      " * \n",
      " * \n",
      " * \n",
      " * \n"
     ]
    }
   ],
   "source": [
    "for i in range(5):\n",
    "    print(\" * \")"
   ]
  },
  {
   "cell_type": "code",
   "execution_count": 4,
   "id": "adb4bf0d-27d6-4619-b2ae-e432a82e162b",
   "metadata": {},
   "outputs": [
    {
     "name": "stdout",
     "output_type": "stream",
     "text": [
      "* * * * * "
     ]
    }
   ],
   "source": [
    "for i in range(5):\n",
    "    print(\"*\",end=\" \")"
   ]
  },
  {
   "cell_type": "code",
   "execution_count": 5,
   "id": "427afefd-4958-4fbf-add3-d1b38d50210c",
   "metadata": {},
   "outputs": [
    {
     "name": "stdout",
     "output_type": "stream",
     "text": [
      "hello mannat kaur\n"
     ]
    }
   ],
   "source": [
    "print(\"hello\",end=\" \")\n",
    "print(\"mannat\",end=\" \")\n",
    "print(\"kaur\")"
   ]
  },
  {
   "cell_type": "markdown",
   "id": "0ba7f3a6-0b40-48b1-8683-0124e962746b",
   "metadata": {},
   "source": [
    "#### Nested Loop"
   ]
  },
  {
   "cell_type": "code",
   "execution_count": 6,
   "id": "01f1daff-d186-4102-9833-2dd9cd062be5",
   "metadata": {},
   "outputs": [
    {
     "name": "stdout",
     "output_type": "stream",
     "text": [
      "9\n",
      "10\n",
      "11\n",
      "12\n",
      "13\n",
      "18\n",
      "20\n",
      "22\n",
      "24\n",
      "26\n"
     ]
    }
   ],
   "source": [
    "f = [1,2]\n",
    "h = [9,10,11,12,13]\n",
    "for i in f:\n",
    "    for j in h:\n",
    "        print(j*i)"
   ]
  },
  {
   "cell_type": "code",
   "execution_count": 8,
   "id": "e417b5f6-c5bd-4ebf-801f-af49cad9d26e",
   "metadata": {},
   "outputs": [
    {
     "name": "stdout",
     "output_type": "stream",
     "text": [
      "1 2 3 4 5 6 \n",
      "1 2 3 4 5 6 \n",
      "1 2 3 4 5 6 \n",
      "1 2 3 4 5 6 \n",
      "1 2 3 4 5 6 \n",
      "1 2 3 4 5 6 \n"
     ]
    }
   ],
   "source": [
    "g = [1,2,3,4,5,6]\n",
    "for i in g:\n",
    "    for j in g:\n",
    "        print(j,end=\" \")\n",
    "    print()    "
   ]
  },
  {
   "cell_type": "code",
   "execution_count": 9,
   "id": "3e2771b1-1fc2-4f70-94d6-4afff84aaef1",
   "metadata": {},
   "outputs": [
    {
     "name": "stdout",
     "output_type": "stream",
     "text": [
      "        * \n",
      "      * * \n",
      "    * * * \n",
      "  * * * * \n",
      "* * * * * \n"
     ]
    }
   ],
   "source": [
    "for i in range(1,6):\n",
    "    for j in range(1,6):\n",
    "        if j>=6-i:\n",
    "            print(\"*\",end=\" \")\n",
    "        else:\n",
    "            print(\" \",end=\" \")\n",
    "    print()\n",
    "            \n",
    "    "
   ]
  },
  {
   "cell_type": "code",
   "execution_count": 13,
   "id": "4b143f09-ca42-43b7-bd90-f4bbafc79cf2",
   "metadata": {},
   "outputs": [
    {
     "name": "stdout",
     "output_type": "stream",
     "text": [
      "* * * * * \n",
      "  * * * * \n",
      "    * * * \n",
      "      * * \n",
      "        * \n"
     ]
    }
   ],
   "source": [
    "for i in range(1,6):\n",
    "    for j in range(1,6):\n",
    "        if j>=i:\n",
    "            print(\"*\",end=\" \")\n",
    "        else:\n",
    "            print(\" \",end=\" \")\n",
    "    print()\n",
    "            "
   ]
  },
  {
   "cell_type": "code",
   "execution_count": 30,
   "id": "68d141b0-d751-4572-a2fe-0d9ca5b08e34",
   "metadata": {},
   "outputs": [
    {
     "name": "stdout",
     "output_type": "stream",
     "text": [
      "      *       \n",
      "    * * *     \n",
      "  * * * * *   \n",
      "* * * * * * * \n"
     ]
    }
   ],
   "source": [
    "for i in range(1,5):\n",
    "    for j in range(1,8):\n",
    "        if j>=5-i and j<=3+i:\n",
    "            print(\"*\",end=\" \")\n",
    "        else:\n",
    "            print(\" \",end=\" \")\n",
    "    print()\n",
    "            "
   ]
  },
  {
   "cell_type": "code",
   "execution_count": 33,
   "id": "147dc04a-767c-47b9-a9de-de3bcf8c3857",
   "metadata": {},
   "outputs": [
    {
     "name": "stdout",
     "output_type": "stream",
     "text": [
      "* * * * * * * \n",
      "  * * * * *   \n",
      "    * * *     \n",
      "      *       \n"
     ]
    }
   ],
   "source": [
    "for i in range(1,5):\n",
    "    for j in range(1,8):\n",
    "        if j>=i and j<=8-i :\n",
    "            print(\"*\",end=\" \")\n",
    "        else:\n",
    "            print(\" \",end=\" \")\n",
    "    print()\n",
    "            "
   ]
  },
  {
   "cell_type": "code",
   "execution_count": 48,
   "id": "1d5ffe5f-7f87-41c6-a91b-c1041fc24133",
   "metadata": {},
   "outputs": [
    {
     "name": "stdout",
     "output_type": "stream",
     "text": [
      "1       \n",
      "1 2     \n",
      "1 2 3   \n",
      "1 2 3 4 \n"
     ]
    }
   ],
   "source": [
    "for i in range(1,5):\n",
    "    for j in range(1,5):\n",
    "        if j<=i and j<=5+i :\n",
    "            print(j,end=\" \")\n",
    "        else:\n",
    "            print(\" \",end=\" \")\n",
    "    print()"
   ]
  },
  {
   "cell_type": "code",
   "execution_count": 58,
   "id": "7f8c3129-fef3-4f02-8223-407c2346f586",
   "metadata": {},
   "outputs": [
    {
     "name": "stdout",
     "output_type": "stream",
     "text": [
      "* * * * * * * \n",
      "* * *   * * * \n",
      "* *       * * \n",
      "*           * \n"
     ]
    }
   ],
   "source": [
    "for i in range(1,5):\n",
    "    for j in range(1,8):\n",
    "        if j<=5-i or j>=3+i :\n",
    "            print(\"*\",end=\" \")\n",
    "        else:\n",
    "            print(\" \",end=\" \")\n",
    "    print()"
   ]
  },
  {
   "cell_type": "code",
   "execution_count": null,
   "id": "72e75178-fcdf-4998-8ad4-1839eb1fff3f",
   "metadata": {},
   "outputs": [],
   "source": []
  },
  {
   "cell_type": "code",
   "execution_count": null,
   "id": "f880602e-d916-4174-aa67-215980142cd0",
   "metadata": {},
   "outputs": [],
   "source": []
  },
  {
   "cell_type": "code",
   "execution_count": null,
   "id": "22c037a1-fa51-48cd-bd4e-37cb970f76c3",
   "metadata": {},
   "outputs": [],
   "source": []
  },
  {
   "cell_type": "code",
   "execution_count": null,
   "id": "0edcfe65-a6b6-4b04-81c7-58a23b53ba39",
   "metadata": {},
   "outputs": [],
   "source": []
  },
  {
   "cell_type": "code",
   "execution_count": null,
   "id": "83d4312d-6c34-4498-89f5-c8d3d496e384",
   "metadata": {},
   "outputs": [],
   "source": []
  },
  {
   "cell_type": "code",
   "execution_count": null,
   "id": "7eeef6aa-deba-4e35-bab8-28bb6111fca4",
   "metadata": {},
   "outputs": [],
   "source": []
  },
  {
   "cell_type": "code",
   "execution_count": null,
   "id": "2a6ec947-9552-4386-83e9-7a145d4a0b30",
   "metadata": {},
   "outputs": [],
   "source": []
  },
  {
   "cell_type": "code",
   "execution_count": null,
   "id": "58e72277-6abc-4d12-b766-ffb5b6365695",
   "metadata": {},
   "outputs": [],
   "source": []
  },
  {
   "cell_type": "code",
   "execution_count": null,
   "id": "e508da32-1f55-43c4-bc67-154659b19e7a",
   "metadata": {},
   "outputs": [],
   "source": []
  },
  {
   "cell_type": "code",
   "execution_count": null,
   "id": "49e80992-de75-49e9-8e6d-21f941745fbf",
   "metadata": {},
   "outputs": [],
   "source": []
  },
  {
   "cell_type": "code",
   "execution_count": null,
   "id": "92c6b73b-9312-4b1f-a308-f99d8d53a81e",
   "metadata": {},
   "outputs": [],
   "source": []
  },
  {
   "cell_type": "code",
   "execution_count": null,
   "id": "0f1d837a-1e73-4be1-a2f3-681e21d95fde",
   "metadata": {},
   "outputs": [],
   "source": []
  },
  {
   "cell_type": "code",
   "execution_count": null,
   "id": "ecedb775-bc14-4a14-9474-b1aa6ccfa298",
   "metadata": {},
   "outputs": [],
   "source": []
  },
  {
   "cell_type": "code",
   "execution_count": null,
   "id": "4b9f9ac8-a0e7-478c-a817-be5792322c8e",
   "metadata": {},
   "outputs": [],
   "source": []
  },
  {
   "cell_type": "code",
   "execution_count": null,
   "id": "fbfd5b23-1448-4f5c-be23-d703386405f6",
   "metadata": {},
   "outputs": [],
   "source": []
  }
 ],
 "metadata": {
  "kernelspec": {
   "display_name": "Python 3 (ipykernel)",
   "language": "python",
   "name": "python3"
  },
  "language_info": {
   "codemirror_mode": {
    "name": "ipython",
    "version": 3
   },
   "file_extension": ".py",
   "mimetype": "text/x-python",
   "name": "python",
   "nbconvert_exporter": "python",
   "pygments_lexer": "ipython3",
   "version": "3.12.4"
  }
 },
 "nbformat": 4,
 "nbformat_minor": 5
}
