{
 "cells": [
  {
   "cell_type": "markdown",
   "id": "f9b1a5a5-4a01-40a7-924b-ecbf729992a5",
   "metadata": {},
   "source": [
    "# Day 1"
   ]
  },
  {
   "cell_type": "markdown",
   "id": "6c4e5101-0e2d-4d2c-b0e5-c5375bab338d",
   "metadata": {},
   "source": [
    "##### Commands\n",
    "\n",
    "cntrl+enter=run selected cell\n",
    "\n",
    "shift+tab=function info"
   ]
  },
  {
   "cell_type": "code",
   "execution_count": 1,
   "id": "d46586f8-54fb-4cd4-ab4c-f20841ef3759",
   "metadata": {},
   "outputs": [],
   "source": [
    "#add"
   ]
  },
  {
   "cell_type": "code",
   "execution_count": 2,
   "id": "af7ab1a2-42b8-40b1-97a3-0d0266a359cd",
   "metadata": {},
   "outputs": [
    {
     "data": {
      "text/plain": [
       "51"
      ]
     },
     "execution_count": 2,
     "metadata": {},
     "output_type": "execute_result"
    }
   ],
   "source": [
    "45+6"
   ]
  },
  {
   "cell_type": "code",
   "execution_count": 3,
   "id": "c412912a-dd73-43eb-bbd5-7ac960d61450",
   "metadata": {},
   "outputs": [
    {
     "name": "stdout",
     "output_type": "stream",
     "text": [
      "51\n"
     ]
    }
   ],
   "source": [
    "print(45+6)"
   ]
  },
  {
   "cell_type": "code",
   "execution_count": 4,
   "id": "b7f50b23-89a8-49b7-bbb0-945348b54872",
   "metadata": {},
   "outputs": [
    {
     "name": "stdout",
     "output_type": "stream",
     "text": [
      "Sum of 2 number like 5 and 6 is  11\n"
     ]
    }
   ],
   "source": [
    "print(\"Sum of 2 number like 5 and 6 is \",5+6)"
   ]
  },
  {
   "cell_type": "code",
   "execution_count": 5,
   "id": "c878fbd1-ed03-4492-aa91-b6452db4fac9",
   "metadata": {},
   "outputs": [
    {
     "name": "stdout",
     "output_type": "stream",
     "text": [
      "sum of 4 is 8\n"
     ]
    }
   ],
   "source": [
    "print(\"sum of {} is {}\".format(4,8,8+4))"
   ]
  },
  {
   "cell_type": "code",
   "execution_count": 6,
   "id": "77f78ca5-6b11-4cda-879a-5fff233f4d2f",
   "metadata": {},
   "outputs": [
    {
     "name": "stdout",
     "output_type": "stream",
     "text": [
      "square of 72 is 5184\n"
     ]
    }
   ],
   "source": [
    "print(\"square of {} is {}\".format(72,72**2))"
   ]
  },
  {
   "cell_type": "code",
   "execution_count": 7,
   "id": "77f90e09-1797-4e63-95b3-d0ac798909e8",
   "metadata": {},
   "outputs": [
    {
     "name": "stdout",
     "output_type": "stream",
     "text": [
      "cube of 12 is 1728\n"
     ]
    }
   ],
   "source": [
    "print(\"cube of {} is {}\".format(12,12**3))"
   ]
  },
  {
   "cell_type": "code",
   "execution_count": 8,
   "id": "ebe7ecdb-a6a4-420f-9d1a-e27ec205212f",
   "metadata": {},
   "outputs": [
    {
     "name": "stdout",
     "output_type": "stream",
     "text": [
      "square root of 42 is 6.48074069840786\n"
     ]
    }
   ],
   "source": [
    "print(\"square root of {} is {}\".format(42,42**(1/2)))"
   ]
  },
  {
   "cell_type": "code",
   "execution_count": 9,
   "id": "e1fa1664-d6bd-46e1-8943-ca02875a5647",
   "metadata": {},
   "outputs": [
    {
     "name": "stdout",
     "output_type": "stream",
     "text": [
      "cube root of 56 is 3.825862365544778\n"
     ]
    }
   ],
   "source": [
    "print(\"cube root of {} is {}\".format(56,56**(1/3)))"
   ]
  },
  {
   "cell_type": "code",
   "execution_count": 10,
   "id": "3f05ae72-f17c-405c-88ce-567230fd97c6",
   "metadata": {},
   "outputs": [
    {
     "name": "stdout",
     "output_type": "stream",
     "text": [
      "cube root of 56 is 3.8259\n"
     ]
    }
   ],
   "source": [
    "print(\"cube root of {} is {}\".format(56,round(56**(1/3),4)))"
   ]
  },
  {
   "cell_type": "code",
   "execution_count": 11,
   "id": "c06366b7-6c9a-4aeb-92d3-61638186804e",
   "metadata": {},
   "outputs": [
    {
     "data": {
      "text/plain": [
       "4"
      ]
     },
     "execution_count": 11,
     "metadata": {},
     "output_type": "execute_result"
    }
   ],
   "source": [
    "round(3.825862365544778)"
   ]
  },
  {
   "cell_type": "code",
   "execution_count": 12,
   "id": "15c42c45-fdef-47d1-a8c7-3e6581195d18",
   "metadata": {},
   "outputs": [
    {
     "data": {
      "text/plain": [
       "6.481"
      ]
     },
     "execution_count": 12,
     "metadata": {},
     "output_type": "execute_result"
    }
   ],
   "source": [
    "round(6.48074069840786,3)"
   ]
  },
  {
   "cell_type": "code",
   "execution_count": 13,
   "id": "c9f0530f-e93d-4dd7-98ea-319cf6117d20",
   "metadata": {},
   "outputs": [],
   "source": [
    "a=180"
   ]
  },
  {
   "cell_type": "code",
   "execution_count": 14,
   "id": "b53d0e07-3749-4020-b5f5-15849ffae8d3",
   "metadata": {},
   "outputs": [
    {
     "name": "stdout",
     "output_type": "stream",
     "text": [
      "3 hours and 0 min in 180 minutes\n"
     ]
    }
   ],
   "source": [
    "print(\"{} hours and {} min in {} minutes\".format(a//60,a%60,a))"
   ]
  },
  {
   "cell_type": "code",
   "execution_count": 15,
   "id": "3bed90d2-a568-4dfb-a3e1-34e7ea3f1534",
   "metadata": {},
   "outputs": [],
   "source": [
    "b=5890"
   ]
  },
  {
   "cell_type": "code",
   "execution_count": 16,
   "id": "a6c49b20-ab78-4364-833e-6dc271593c8f",
   "metadata": {},
   "outputs": [
    {
     "name": "stdout",
     "output_type": "stream",
     "text": [
      "245 days in 98 hours and 10 min in 5890 minutes\n"
     ]
    }
   ],
   "source": [
    "print(\"{} days in {} hours and {} min in {} minutes\".format(b//24,b//60,b%60,b))"
   ]
  },
  {
   "cell_type": "code",
   "execution_count": 17,
   "id": "741ff44b-b1db-44be-a98e-a7333aa734b2",
   "metadata": {},
   "outputs": [],
   "source": [
    "c=1440"
   ]
  },
  {
   "cell_type": "code",
   "execution_count": 18,
   "id": "ff763c32-ac9d-40e6-a725-46f8e2a868e6",
   "metadata": {},
   "outputs": [
    {
     "name": "stdout",
     "output_type": "stream",
     "text": [
      "1 day in 24 hours and 0 min\n"
     ]
    }
   ],
   "source": [
    "print(\"{} day in {} hours and {} min\".format(c//1440,c//60,c%60))"
   ]
  },
  {
   "cell_type": "code",
   "execution_count": 19,
   "id": "43cdc13a-9d7b-4b9a-8180-fc5e489a140b",
   "metadata": {},
   "outputs": [],
   "source": [
    "a=155689"
   ]
  },
  {
   "cell_type": "code",
   "execution_count": 20,
   "id": "d5a5ee6f-fd24-42cb-900d-dfc101b6ea8a",
   "metadata": {},
   "outputs": [
    {
     "name": "stdout",
     "output_type": "stream",
     "text": [
      "108 day in 2 hours and 49 min\n"
     ]
    }
   ],
   "source": [
    "print(\"{} day in {} hours and {} min\".format((a//60)//24,(a//60)%24,(a%60)))"
   ]
  },
  {
   "cell_type": "code",
   "execution_count": 21,
   "id": "693cb322-eb6f-41cd-9a20-aeab9f49f5a3",
   "metadata": {},
   "outputs": [],
   "source": [
    "b=1457986"
   ]
  },
  {
   "cell_type": "code",
   "execution_count": 22,
   "id": "94c3629b-ecd7-4124-981c-de6561e528ae",
   "metadata": {},
   "outputs": [
    {
     "name": "stdout",
     "output_type": "stream",
     "text": [
      "1012 days in 11 hours and 46 min\n"
     ]
    }
   ],
   "source": [
    "print(\"{} days in {} hours and {} min\".format((b//60)//24,(b//60)%24,(b%60)))"
   ]
  },
  {
   "cell_type": "code",
   "execution_count": 23,
   "id": "82750d35-7e4d-4346-8112-53b4318d2b3f",
   "metadata": {},
   "outputs": [],
   "source": [
    "a=1457986"
   ]
  },
  {
   "cell_type": "code",
   "execution_count": 24,
   "id": "39ca66be-7272-4e2c-a673-55a8e3859fad",
   "metadata": {},
   "outputs": [
    {
     "name": "stdout",
     "output_type": "stream",
     "text": [
      "16 days in 20 hours 59 min and 46 sec\n"
     ]
    }
   ],
   "source": [
    "print(\"{} days in {} hours {} min and {} sec\".format((a//1440)//60,(a//3600)%24,(a//60)%60,(a%60)))"
   ]
  },
  {
   "cell_type": "markdown",
   "id": "9c684a70-a682-476c-aa99-7b7b0b44de1e",
   "metadata": {},
   "source": [
    "## Day 2"
   ]
  },
  {
   "cell_type": "markdown",
   "id": "29e47c3f-5d2f-4990-a6de-9655103ccaf1",
   "metadata": {},
   "source": [
    "## variables"
   ]
  },
  {
   "cell_type": "markdown",
   "id": "38db8d63-49f6-486c-9384-f889d0c253be",
   "metadata": {},
   "source": [
    "**Rules**\n",
    "\n",
    "1. there is a logical length for variable name\n",
    "2. name must be starts with _ or text\n",
    "3. there is no space in variable name\n",
    "4. not allowed to use reserved keyword"
   ]
  },
  {
   "cell_type": "markdown",
   "id": "f900b476-5f01-46d3-b804-f0d1497e273e",
   "metadata": {},
   "source": [
    "## Comparison Operators\n",
    "\n",
    "greater than >\n",
    "\n",
    "smaller than <\n",
    "\n",
    "greater than equals to >=\n",
    "\n",
    "smaller than equals to <=\n",
    "\n",
    "equals to ==\n",
    "\n",
    "not equals to !=\n"
   ]
  },
  {
   "cell_type": "code",
   "execution_count": 25,
   "id": "2c4621d3-3826-4d25-8732-19298317ddfb",
   "metadata": {},
   "outputs": [],
   "source": [
    "a=10\n",
    "b=68"
   ]
  },
  {
   "cell_type": "code",
   "execution_count": 26,
   "id": "a5145a0d-52ff-47e9-aac6-505beab68efc",
   "metadata": {},
   "outputs": [
    {
     "data": {
      "text/plain": [
       "False"
      ]
     },
     "execution_count": 26,
     "metadata": {},
     "output_type": "execute_result"
    }
   ],
   "source": [
    "a>b"
   ]
  },
  {
   "cell_type": "code",
   "execution_count": 27,
   "id": "e9304a19-92d5-440e-8500-6610c4ae510f",
   "metadata": {},
   "outputs": [
    {
     "data": {
      "text/plain": [
       "True"
      ]
     },
     "execution_count": 27,
     "metadata": {},
     "output_type": "execute_result"
    }
   ],
   "source": [
    "a<b"
   ]
  },
  {
   "cell_type": "code",
   "execution_count": 28,
   "id": "25d89b4c-9b02-459a-b410-733d9b21610c",
   "metadata": {},
   "outputs": [
    {
     "data": {
      "text/plain": [
       "True"
      ]
     },
     "execution_count": 28,
     "metadata": {},
     "output_type": "execute_result"
    }
   ],
   "source": [
    "a!=b"
   ]
  },
  {
   "cell_type": "code",
   "execution_count": 29,
   "id": "e83ac79c-c3a3-4818-b264-940d4e7b263d",
   "metadata": {},
   "outputs": [
    {
     "data": {
      "text/plain": [
       "True"
      ]
     },
     "execution_count": 29,
     "metadata": {},
     "output_type": "execute_result"
    }
   ],
   "source": [
    "a<=b"
   ]
  },
  {
   "cell_type": "code",
   "execution_count": 30,
   "id": "47438a7a-afe9-485a-8ecd-267193108178",
   "metadata": {},
   "outputs": [
    {
     "data": {
      "text/plain": [
       "False"
      ]
     },
     "execution_count": 30,
     "metadata": {},
     "output_type": "execute_result"
    }
   ],
   "source": [
    "a>=b"
   ]
  },
  {
   "cell_type": "code",
   "execution_count": 31,
   "id": "7aaacc3d-6f87-479e-ae3a-569ffb56532c",
   "metadata": {},
   "outputs": [
    {
     "data": {
      "text/plain": [
       "False"
      ]
     },
     "execution_count": 31,
     "metadata": {},
     "output_type": "execute_result"
    }
   ],
   "source": [
    "a==b"
   ]
  },
  {
   "cell_type": "markdown",
   "id": "b2e4249b-b616-4204-bc77-e9af7c64f527",
   "metadata": {},
   "source": [
    "## Data Types"
   ]
  },
  {
   "cell_type": "markdown",
   "id": "24e80f4c-bb28-4912-8a33-e2c4830e9bc3",
   "metadata": {},
   "source": [
    "int will read only whole numbers\n",
    "\n",
    "float will read both whole & decimal numbers\n",
    "\n",
    "str anything in \"\",'',\"\"\" \"\"\" called string\n",
    "\n",
    "bool True = 1 & False = 0"
   ]
  },
  {
   "cell_type": "code",
   "execution_count": 32,
   "id": "07967c59-6820-471a-9e1b-c9ddd6672c4b",
   "metadata": {},
   "outputs": [],
   "source": [
    "q=5\n",
    "w=5.5\n",
    "e='hello'\n",
    "t=True\n"
   ]
  },
  {
   "cell_type": "code",
   "execution_count": 33,
   "id": "9c9cf9e5-2ab6-416d-86d4-1f57fd0a3928",
   "metadata": {},
   "outputs": [
    {
     "name": "stdout",
     "output_type": "stream",
     "text": [
      "<class 'int'>\n",
      "<class 'float'>\n",
      "<class 'str'>\n",
      "<class 'bool'>\n"
     ]
    }
   ],
   "source": [
    "# type casting tells about the assigned datatype of variables\n",
    "\n",
    "print(type(q))\n",
    "print(type(w))\n",
    "print(type(e))\n",
    "print(type(t))\n"
   ]
  },
  {
   "cell_type": "code",
   "execution_count": 34,
   "id": "7beb0d8f-66a9-49ec-bd0b-1d3d785383e6",
   "metadata": {},
   "outputs": [
    {
     "name": "stdout",
     "output_type": "stream",
     "text": [
      "Variable   Type     Data/Info\n",
      "-----------------------------\n",
      "a          int      10\n",
      "b          int      68\n",
      "c          int      1440\n",
      "e          str      hello\n",
      "q          int      5\n",
      "t          bool     True\n",
      "w          float    5.5\n"
     ]
    }
   ],
   "source": [
    "# dictionary / history of variable\n",
    "\n",
    "%whos"
   ]
  },
  {
   "cell_type": "code",
   "execution_count": 35,
   "id": "8dcbef5c-af6e-45dc-9172-181da9e70119",
   "metadata": {},
   "outputs": [],
   "source": [
    "#to delete any variable from history\n",
    "\n",
    "del(e)"
   ]
  },
  {
   "cell_type": "code",
   "execution_count": 36,
   "id": "649985b0-9fd0-4c38-a3ff-081893a692f5",
   "metadata": {},
   "outputs": [
    {
     "data": {
      "text/plain": [
       "str"
      ]
     },
     "execution_count": 36,
     "metadata": {},
     "output_type": "execute_result"
    }
   ],
   "source": [
    "a=\"123\"\n",
    "type(a)"
   ]
  },
  {
   "cell_type": "markdown",
   "id": "dbb96a4c-2545-4bee-8fe3-adb75d6903eb",
   "metadata": {},
   "source": [
    "##### Changes datatype"
   ]
  },
  {
   "cell_type": "code",
   "execution_count": 37,
   "id": "f9b95f39-eaa6-4797-b143-d826f08887fa",
   "metadata": {},
   "outputs": [
    {
     "data": {
      "text/plain": [
       "123.0"
      ]
     },
     "execution_count": 37,
     "metadata": {},
     "output_type": "execute_result"
    }
   ],
   "source": [
    "float(a)"
   ]
  },
  {
   "cell_type": "code",
   "execution_count": 38,
   "id": "48bbca18-68ff-4cb7-9e4b-359099813ecd",
   "metadata": {},
   "outputs": [
    {
     "data": {
      "text/plain": [
       "123"
      ]
     },
     "execution_count": 38,
     "metadata": {},
     "output_type": "execute_result"
    }
   ],
   "source": [
    "int(a)"
   ]
  },
  {
   "cell_type": "code",
   "execution_count": 39,
   "id": "5694df35-e55e-4856-9c4d-0fe7c0d61355",
   "metadata": {},
   "outputs": [
    {
     "data": {
      "text/plain": [
       "'45'"
      ]
     },
     "execution_count": 39,
     "metadata": {},
     "output_type": "execute_result"
    }
   ],
   "source": [
    "h='45'\n",
    "h"
   ]
  },
  {
   "cell_type": "code",
   "execution_count": 40,
   "id": "12186939-e79a-4de0-aa4d-c0a734b799fd",
   "metadata": {},
   "outputs": [
    {
     "data": {
      "text/plain": [
       "'45'"
      ]
     },
     "execution_count": 40,
     "metadata": {},
     "output_type": "execute_result"
    }
   ],
   "source": [
    "str(h)"
   ]
  },
  {
   "cell_type": "markdown",
   "id": "f1af7d73-a806-43f5-a1a7-80d728beba87",
   "metadata": {},
   "source": [
    "### User Input"
   ]
  },
  {
   "cell_type": "code",
   "execution_count": 41,
   "id": "f6b016e8-e57f-4b8b-afce-f6778bb5bab7",
   "metadata": {},
   "outputs": [
    {
     "name": "stdin",
     "output_type": "stream",
     "text": [
      " hii\n"
     ]
    }
   ],
   "source": [
    "a = input()    #by default it reads string"
   ]
  },
  {
   "cell_type": "code",
   "execution_count": 42,
   "id": "b0625590-ae5a-497a-a06f-2e886c29d76b",
   "metadata": {},
   "outputs": [
    {
     "data": {
      "text/plain": [
       "str"
      ]
     },
     "execution_count": 42,
     "metadata": {},
     "output_type": "execute_result"
    }
   ],
   "source": [
    "type(a)"
   ]
  },
  {
   "cell_type": "code",
   "execution_count": 44,
   "id": "f1e8e066-971e-45ad-8c61-5ff7be0fb9c4",
   "metadata": {},
   "outputs": [
    {
     "name": "stdin",
     "output_type": "stream",
     "text": [
      " 8\n"
     ]
    }
   ],
   "source": [
    "w = int(input())"
   ]
  },
  {
   "cell_type": "code",
   "execution_count": 45,
   "id": "4b4dc27b-185a-48b7-83a2-aa3bdfd74c58",
   "metadata": {},
   "outputs": [
    {
     "name": "stdin",
     "output_type": "stream",
     "text": [
      " 5\n"
     ]
    }
   ],
   "source": [
    " x = float(input())"
   ]
  },
  {
   "cell_type": "code",
   "execution_count": 46,
   "id": "8f7e1df7-d358-4bdf-8d7c-a22ea262c94d",
   "metadata": {},
   "outputs": [
    {
     "name": "stdin",
     "output_type": "stream",
     "text": [
      " 6.8\n"
     ]
    }
   ],
   "source": [
    "x = float(input())"
   ]
  },
  {
   "cell_type": "markdown",
   "id": "22bf19aa-65dc-4011-bfa9-930c121b5e63",
   "metadata": {},
   "source": [
    "### String"
   ]
  },
  {
   "cell_type": "code",
   "execution_count": 138,
   "id": "5fa53355-a2da-445b-9bca-32746da4117d",
   "metadata": {},
   "outputs": [],
   "source": [
    "st = \"Hello Ma'am meet me at the shop or mail me on python@gmail.com at 9:00PM\""
   ]
  },
  {
   "cell_type": "markdown",
   "id": "eca95e56-9090-438d-8382-6491bc6ebb43",
   "metadata": {},
   "source": [
    "\n",
    "**String Functions**\n",
    "  \n",
    "len(str)\n",
    "\n",
    "st.upper()\n",
    "\n",
    "st.lower()\n",
    "\n",
    "st.capitalize()\n",
    "\n",
    "st.title()\n",
    "\n",
    "st.removeprefix()\n",
    "\n",
    "st.removesuffix()\n",
    "\n",
    "st.split()\n",
    "\n",
    "st.lstrip()\n",
    "\n",
    "st.rstrip()\n",
    "\n",
    "st.find()\n",
    "\n",
    "st.count()\n",
    "\n",
    "st.replace()"
   ]
  },
  {
   "cell_type": "code",
   "execution_count": 113,
   "id": "77ce3ddf-879b-4329-8989-4fe16eee9b6c",
   "metadata": {},
   "outputs": [
    {
     "data": {
      "text/plain": [
       "72"
      ]
     },
     "execution_count": 113,
     "metadata": {},
     "output_type": "execute_result"
    }
   ],
   "source": [
    "len(st) #CHECKS THE LENGTH OF STRING"
   ]
  },
  {
   "cell_type": "code",
   "execution_count": 114,
   "id": "e5378d1a-ccb2-46bd-b294-c17dbacb2c34",
   "metadata": {},
   "outputs": [
    {
     "data": {
      "text/plain": [
       "\"HELLO MA'AM MEET ME AT THE SHOP OR MAIL ME ON PYTHON@GMAIL.COM AT 9:00PM\""
      ]
     },
     "execution_count": 114,
     "metadata": {},
     "output_type": "execute_result"
    }
   ],
   "source": [
    "st.upper() #CONVERTS LOWERCASE TO UPPERCASE"
   ]
  },
  {
   "cell_type": "code",
   "execution_count": 115,
   "id": "f4088f26-bb6d-4d8e-8b4c-a017def885e8",
   "metadata": {},
   "outputs": [
    {
     "data": {
      "text/plain": [
       "\"hello ma'am meet me at the shop or mail me on python@gmail.com at 9:00pm\""
      ]
     },
     "execution_count": 115,
     "metadata": {},
     "output_type": "execute_result"
    }
   ],
   "source": [
    "st.lower() #CONVERTS UPPERCASE TO LOWERCASE"
   ]
  },
  {
   "cell_type": "code",
   "execution_count": 116,
   "id": "c050a622-686a-4d0d-bc27-42e90a222d56",
   "metadata": {},
   "outputs": [
    {
     "data": {
      "text/plain": [
       "\"Hello ma'am meet me at the shop or mail me on python@gmail.com at 9:00pm\""
      ]
     },
     "execution_count": 116,
     "metadata": {},
     "output_type": "execute_result"
    }
   ],
   "source": [
    "st.capitalize() #CAPATILZES THE IST ALPHABET OF IST WORD"
   ]
  },
  {
   "cell_type": "code",
   "execution_count": 117,
   "id": "467fe65a-583f-497c-ae86-cc9bab2a1e86",
   "metadata": {},
   "outputs": [
    {
     "data": {
      "text/plain": [
       "\"Hello Ma'Am Meet Me At The Shop Or Mail Me On Python@Gmail.Com At 9:00Pm\""
      ]
     },
     "execution_count": 117,
     "metadata": {},
     "output_type": "execute_result"
    }
   ],
   "source": [
    "st.title() #CAPATILZES THE IST ALPHABET OF EACH WORD AFTER SPACE,DELIMETER & SPECIAL CHARACTER"
   ]
  },
  {
   "cell_type": "code",
   "execution_count": 120,
   "id": "23f83ee5-e66c-4607-909c-bd1e7feefa38",
   "metadata": {},
   "outputs": [
    {
     "data": {
      "text/plain": [
       "\" Ma'am meet me at the shop or mail me on python@gmail.com at 9:00PM\""
      ]
     },
     "execution_count": 120,
     "metadata": {},
     "output_type": "execute_result"
    }
   ],
   "source": [
    "st.removeprefix(\"Hello\")#REMOVES FIRST WORD/ALPHABET"
   ]
  },
  {
   "cell_type": "code",
   "execution_count": 121,
   "id": "c17542b7-ea03-47f3-bf30-c8149b15e3bf",
   "metadata": {},
   "outputs": [
    {
     "data": {
      "text/plain": [
       "['Hello',\n",
       " \"Ma'am\",\n",
       " 'meet',\n",
       " 'me',\n",
       " 'at',\n",
       " 'the',\n",
       " 'shop',\n",
       " 'or',\n",
       " 'mail',\n",
       " 'me',\n",
       " 'on',\n",
       " 'python@gmail.com',\n",
       " 'at',\n",
       " '9:00PM']"
      ]
     },
     "execution_count": 121,
     "metadata": {},
     "output_type": "execute_result"
    }
   ],
   "source": [
    "st.split() #SEPEARTES THE WORDS OF STRING THROUGH SPACE"
   ]
  },
  {
   "cell_type": "code",
   "execution_count": 122,
   "id": "5cbfa9a7-71ab-476b-9edd-a23a3d38ffd7",
   "metadata": {},
   "outputs": [
    {
     "data": {
      "text/plain": [
       "\"Hello Ma'am meet me at the shop or mail me on python@gmail.com at 9:00\""
      ]
     },
     "execution_count": 122,
     "metadata": {},
     "output_type": "execute_result"
    }
   ],
   "source": [
    "st.removesuffix(\"PM\") #REMOVES LAST WORD/ALPHABET"
   ]
  },
  {
   "cell_type": "code",
   "execution_count": 133,
   "id": "01fde33d-83b4-49f8-b406-8891b19118d0",
   "metadata": {},
   "outputs": [
    {
     "data": {
      "text/plain": [
       "'hello '"
      ]
     },
     "execution_count": 133,
     "metadata": {},
     "output_type": "execute_result"
    }
   ],
   "source": [
    "st1 = \" hello \"\n",
    "st.lstrip()  #gives space at left"
   ]
  },
  {
   "cell_type": "code",
   "execution_count": 134,
   "id": "9e819eab-580d-4741-b91a-3e377f665b9e",
   "metadata": {},
   "outputs": [
    {
     "data": {
      "text/plain": [
       "' hello'"
      ]
     },
     "execution_count": 134,
     "metadata": {},
     "output_type": "execute_result"
    }
   ],
   "source": [
    "st1.rstrip()    #gives space at right"
   ]
  },
  {
   "cell_type": "code",
   "execution_count": 141,
   "id": "1b1373ba-b453-4905-85bf-7ce00518a7bb",
   "metadata": {},
   "outputs": [
    {
     "data": {
      "text/plain": [
       "5"
      ]
     },
     "execution_count": 141,
     "metadata": {},
     "output_type": "execute_result"
    }
   ],
   "source": [
    "st1.find(\"o\") #tells about the index value of ist occurence of the alphabet"
   ]
  },
  {
   "cell_type": "code",
   "execution_count": 139,
   "id": "39b894d3-e431-40d6-866d-10ac79582413",
   "metadata": {},
   "outputs": [
    {
     "data": {
      "text/plain": [
       "30"
      ]
     },
     "execution_count": 139,
     "metadata": {},
     "output_type": "execute_result"
    }
   ],
   "source": [
    "st.find(\"p\")"
   ]
  },
  {
   "cell_type": "markdown",
   "id": "d73b7880-8190-4cfe-b41c-1b11342ff9eb",
   "metadata": {},
   "source": [
    "#### Indexing"
   ]
  },
  {
   "cell_type": "code",
   "execution_count": 3,
   "id": "d19f0d6a-c7bb-4180-9073-07b38fb76bc8",
   "metadata": {},
   "outputs": [],
   "source": [
    "a = \"hello\""
   ]
  },
  {
   "cell_type": "code",
   "execution_count": 4,
   "id": "ece10451-030c-4107-833d-b59f96f3bcc7",
   "metadata": {},
   "outputs": [
    {
     "data": {
      "text/plain": [
       "'h'"
      ]
     },
     "execution_count": 4,
     "metadata": {},
     "output_type": "execute_result"
    }
   ],
   "source": [
    "a[0]"
   ]
  },
  {
   "cell_type": "markdown",
   "id": "1469d42f-1576-40fa-a4bb-b6d722d50423",
   "metadata": {},
   "source": [
    "#### Slicing"
   ]
  },
  {
   "cell_type": "markdown",
   "id": "d00d3270-4a47-4741-9b69-0c310de04cd7",
   "metadata": {},
   "source": [
    "\n",
    "##### basic index\n",
    "###### variable[\"start\":\"stop\":\"step\"]   #stop & step excludes"
   ]
  },
  {
   "cell_type": "code",
   "execution_count": 6,
   "id": "3072a69d-163b-4eb2-be49-0d7ead6b7707",
   "metadata": {},
   "outputs": [],
   "source": [
    "w =  \"0123456789\""
   ]
  },
  {
   "cell_type": "code",
   "execution_count": 7,
   "id": "8ee02c75-10c3-426d-9e0e-a81ec0689371",
   "metadata": {},
   "outputs": [
    {
     "data": {
      "text/plain": [
       "'0123'"
      ]
     },
     "execution_count": 7,
     "metadata": {},
     "output_type": "execute_result"
    }
   ],
   "source": [
    "w[0:4]"
   ]
  },
  {
   "cell_type": "code",
   "execution_count": 8,
   "id": "c09ce50a-b4f7-448e-9c14-e784f59c0bc7",
   "metadata": {},
   "outputs": [
    {
     "data": {
      "text/plain": [
       "'012345678'"
      ]
     },
     "execution_count": 8,
     "metadata": {},
     "output_type": "execute_result"
    }
   ],
   "source": [
    "w[0:9]"
   ]
  },
  {
   "cell_type": "code",
   "execution_count": 9,
   "id": "cffc2529-bd10-415f-9e27-cf0bf7abc809",
   "metadata": {},
   "outputs": [
    {
     "data": {
      "text/plain": [
       "'024'"
      ]
     },
     "execution_count": 9,
     "metadata": {},
     "output_type": "execute_result"
    }
   ],
   "source": [
    "w[0:6:2]   #step gives the gap."
   ]
  },
  {
   "cell_type": "code",
   "execution_count": 10,
   "id": "1509b273-fd05-4633-95c3-b68d2c66d8a3",
   "metadata": {},
   "outputs": [
    {
     "data": {
      "text/plain": [
       "'0369'"
      ]
     },
     "execution_count": 10,
     "metadata": {},
     "output_type": "execute_result"
    }
   ],
   "source": [
    "w[0:10:3]"
   ]
  },
  {
   "cell_type": "code",
   "execution_count": 12,
   "id": "b4d6b7ec-c6db-4ac0-a804-79b040fe8e2e",
   "metadata": {},
   "outputs": [
    {
     "data": {
      "text/plain": [
       "'0123456789'"
      ]
     },
     "execution_count": 12,
     "metadata": {},
     "output_type": "execute_result"
    }
   ],
   "source": [
    "w[0:] # when the value of stop & step not given then it gives the whole string as output"
   ]
  },
  {
   "cell_type": "code",
   "execution_count": 15,
   "id": "362090b5-4fd1-41b7-9842-2d48535c6da3",
   "metadata": {},
   "outputs": [
    {
     "data": {
      "text/plain": [
       "'02468'"
      ]
     },
     "execution_count": 15,
     "metadata": {},
     "output_type": "execute_result"
    }
   ],
   "source": [
    "w[0::2] #when the value of stop is not given it prints the string with the given gap value."
   ]
  },
  {
   "cell_type": "markdown",
   "id": "75dbc749-cf77-40f1-955c-63d0dedb1705",
   "metadata": {},
   "source": [
    "#### Negative Indexing"
   ]
  },
  {
   "cell_type": "code",
   "execution_count": 18,
   "id": "ebcdbbae-0eda-4949-aa5e-109f5db8e5c3",
   "metadata": {},
   "outputs": [
    {
     "data": {
      "text/plain": [
       "'789'"
      ]
     },
     "execution_count": 18,
     "metadata": {},
     "output_type": "execute_result"
    }
   ],
   "source": [
    "w[-3:] #it prints the value from right to left"
   ]
  },
  {
   "cell_type": "code",
   "execution_count": 19,
   "id": "9eb11a59-c1cf-45cb-9892-0cbaedd689b0",
   "metadata": {},
   "outputs": [
    {
     "data": {
      "text/plain": [
       "'7531'"
      ]
     },
     "execution_count": 19,
     "metadata": {},
     "output_type": "execute_result"
    }
   ],
   "source": [
    "w[-3::-2]"
   ]
  },
  {
   "cell_type": "code",
   "execution_count": 20,
   "id": "6568c8b8-85f4-47d2-90c9-7957c88a7357",
   "metadata": {},
   "outputs": [],
   "source": [
    "t = \"there are many people in the world but i don't know any of them\""
   ]
  },
  {
   "cell_type": "markdown",
   "id": "10e1aca0-03fc-4329-be44-24390e0ef51c",
   "metadata": {},
   "source": [
    "### Question\n",
    "\n",
    "Extract \n",
    "\n",
    " 1.\"people\"\n",
    " \n",
    " 2.\"know any of\"\n",
    " \n",
    " 3.\"world\"\n",
    " \n",
    " 4.\"are many in the\"\n",
    " \n",
    "from the given string"
   ]
  },
  {
   "cell_type": "code",
   "execution_count": 22,
   "id": "f9ef1252-0ec3-44a4-a7ca-bda43f34ae86",
   "metadata": {},
   "outputs": [
    {
     "data": {
      "text/plain": [
       "'people'"
      ]
     },
     "execution_count": 22,
     "metadata": {},
     "output_type": "execute_result"
    }
   ],
   "source": [
    "t[15:21]"
   ]
  },
  {
   "cell_type": "code",
   "execution_count": 23,
   "id": "de862d05-e0e2-432f-9438-46bb5a2cceb8",
   "metadata": {},
   "outputs": [
    {
     "data": {
      "text/plain": [
       "47"
      ]
     },
     "execution_count": 23,
     "metadata": {},
     "output_type": "execute_result"
    }
   ],
   "source": [
    "t.find(\"know\")"
   ]
  },
  {
   "cell_type": "code",
   "execution_count": 24,
   "id": "ef8cdaeb-e5eb-4bb9-97cf-54389bdb6254",
   "metadata": {},
   "outputs": [
    {
     "data": {
      "text/plain": [
       "56"
      ]
     },
     "execution_count": 24,
     "metadata": {},
     "output_type": "execute_result"
    }
   ],
   "source": [
    "t.find(\"of\")"
   ]
  },
  {
   "cell_type": "code",
   "execution_count": 26,
   "id": "a27c3994-8d6f-4e5e-b9a6-96fa91612418",
   "metadata": {},
   "outputs": [
    {
     "data": {
      "text/plain": [
       "'know any of'"
      ]
     },
     "execution_count": 26,
     "metadata": {},
     "output_type": "execute_result"
    }
   ],
   "source": [
    "t[47:58]"
   ]
  },
  {
   "cell_type": "code",
   "execution_count": 27,
   "id": "e1ac3280-e93a-48e8-89a9-ba5da6b90a57",
   "metadata": {},
   "outputs": [
    {
     "data": {
      "text/plain": [
       "29"
      ]
     },
     "execution_count": 27,
     "metadata": {},
     "output_type": "execute_result"
    }
   ],
   "source": [
    "t.find(\"world\")"
   ]
  },
  {
   "cell_type": "code",
   "execution_count": 28,
   "id": "54b450ff-6909-43ad-bc1b-6f4a608cd282",
   "metadata": {},
   "outputs": [
    {
     "data": {
      "text/plain": [
       "'world'"
      ]
     },
     "execution_count": 28,
     "metadata": {},
     "output_type": "execute_result"
    }
   ],
   "source": [
    "t[29:34]"
   ]
  },
  {
   "cell_type": "code",
   "execution_count": 29,
   "id": "8091dc0a-a4fa-4df3-af41-a8a85bcf3aad",
   "metadata": {},
   "outputs": [
    {
     "data": {
      "text/plain": [
       "6"
      ]
     },
     "execution_count": 29,
     "metadata": {},
     "output_type": "execute_result"
    }
   ],
   "source": [
    "t.find(\"are\")"
   ]
  },
  {
   "cell_type": "code",
   "execution_count": 33,
   "id": "46c6332e-c509-4d38-91a2-6308fc292e83",
   "metadata": {},
   "outputs": [
    {
     "data": {
      "text/plain": [
       "25"
      ]
     },
     "execution_count": 33,
     "metadata": {},
     "output_type": "execute_result"
    }
   ],
   "source": [
    "t.find(\"the\",2)"
   ]
  },
  {
   "cell_type": "code",
   "execution_count": 35,
   "id": "fe87051d-b7b4-4569-8519-3f00343b83ec",
   "metadata": {},
   "outputs": [
    {
     "data": {
      "text/plain": [
       "'are many people in the'"
      ]
     },
     "execution_count": 35,
     "metadata": {},
     "output_type": "execute_result"
    }
   ],
   "source": [
    "t[6:28]"
   ]
  },
  {
   "cell_type": "code",
   "execution_count": 37,
   "id": "797a8bfd-abc3-44a5-8289-fa2102057ef2",
   "metadata": {},
   "outputs": [
    {
     "data": {
      "text/plain": [
       "5"
      ]
     },
     "execution_count": 37,
     "metadata": {},
     "output_type": "execute_result"
    }
   ],
   "source": [
    "t.count(\"t\") #TELLS ABOUT HOW MANY TIMES AN ALPHABET OR WORD IS PRESENT IN THE GIVEN STRING."
   ]
  },
  {
   "cell_type": "code",
   "execution_count": 40,
   "id": "968f81db-338e-4029-9893-bf96977ff9e8",
   "metadata": {},
   "outputs": [
    {
     "data": {
      "text/plain": [
       "13"
      ]
     },
     "execution_count": 40,
     "metadata": {},
     "output_type": "execute_result"
    }
   ],
   "source": [
    "t.count(\" \") #Counts the space"
   ]
  },
  {
   "cell_type": "code",
   "execution_count": 47,
   "id": "2794c730-0225-448d-a58f-a875dc6ddc55",
   "metadata": {},
   "outputs": [],
   "source": [
    "s=\"hello harry,please meet me @coffee shop or email me @ python@gmail.com @11:00am\""
   ]
  },
  {
   "cell_type": "markdown",
   "id": "1d66b6eb-71a8-4e4f-ba14-c917b4c7748c",
   "metadata": {},
   "source": [
    "### Question \n",
    "\n",
    "1.Convert python@gmail.com to PYTHON@GMAIL.COM\n",
    "\n",
    "2.Add robin said to harry that in the starting \n",
    "\n",
    "3.Add harry replied ok i will be there in the ending\n",
    "\n",
    "4.Reverse example"
   ]
  },
  {
   "cell_type": "code",
   "execution_count": 51,
   "id": "4e6ae98e-cd2c-44e5-bd17-7c6d499e15c8",
   "metadata": {},
   "outputs": [
    {
     "data": {
      "text/plain": [
       "54"
      ]
     },
     "execution_count": 51,
     "metadata": {},
     "output_type": "execute_result"
    }
   ],
   "source": [
    "s.find(\"python\")"
   ]
  },
  {
   "cell_type": "code",
   "execution_count": 52,
   "id": "1c38d1a2-e1f7-4c22-ba45-be6509e46633",
   "metadata": {},
   "outputs": [
    {
     "data": {
      "text/plain": [
       "67"
      ]
     },
     "execution_count": 52,
     "metadata": {},
     "output_type": "execute_result"
    }
   ],
   "source": [
    "s.find(\"com\")"
   ]
  },
  {
   "cell_type": "code",
   "execution_count": 53,
   "id": "a891d109-5cbf-4fdd-815d-1883444e7875",
   "metadata": {},
   "outputs": [
    {
     "data": {
      "text/plain": [
       "'PYTHON@GMAIL.COM'"
      ]
     },
     "execution_count": 53,
     "metadata": {},
     "output_type": "execute_result"
    }
   ],
   "source": [
    "s[54:70].upper()"
   ]
  },
  {
   "cell_type": "code",
   "execution_count": 56,
   "id": "beab3565-9580-4ec6-ac01-8ab4e9b0a9db",
   "metadata": {},
   "outputs": [
    {
     "data": {
      "text/plain": [
       "'hello harry,please meet me @coffee shop or email me @ PYTHON@GMAIL.COM @11:00am'"
      ]
     },
     "execution_count": 56,
     "metadata": {},
     "output_type": "execute_result"
    }
   ],
   "source": [
    "s.replace(\"python@gmail.com\",\"PYTHON@GMAIL.COM\")"
   ]
  },
  {
   "cell_type": "code",
   "execution_count": 57,
   "id": "f1f23e37-1e90-4722-9018-cb0b5603caba",
   "metadata": {},
   "outputs": [
    {
     "data": {
      "text/plain": [
       "['hello',\n",
       " 'harry,please',\n",
       " 'meet',\n",
       " 'me',\n",
       " '@coffee',\n",
       " 'shop',\n",
       " 'or',\n",
       " 'email',\n",
       " 'me',\n",
       " '@',\n",
       " 'python@gmail.com',\n",
       " '@11:00am']"
      ]
     },
     "execution_count": 57,
     "metadata": {},
     "output_type": "execute_result"
    }
   ],
   "source": [
    "s.split()"
   ]
  },
  {
   "cell_type": "code",
   "execution_count": 98,
   "id": "f82107c8-bb7a-48cd-85b9-7362bf0ec00b",
   "metadata": {},
   "outputs": [
    {
     "data": {
      "text/plain": [
       "'robin said to harry that hello robin said to harry that harry,please meet me @coffee srobin said to harry that hop or email me @ pytrobin said to harry that hon@gmail.com @11:00am'"
      ]
     },
     "execution_count": 98,
     "metadata": {},
     "output_type": "execute_result"
    }
   ],
   "source": [
    "s.replace(\"h\",\"robin said to harry that h\")"
   ]
  },
  {
   "cell_type": "code",
   "execution_count": 101,
   "id": "b1a0b8ad-a378-421d-8d8e-7e398ddfc619",
   "metadata": {},
   "outputs": [],
   "source": [
    "a=\"robin said to harry that \""
   ]
  },
  {
   "cell_type": "code",
   "execution_count": 102,
   "id": "e57ba8e1-610f-448c-95ec-69c167858bae",
   "metadata": {},
   "outputs": [
    {
     "data": {
      "text/plain": [
       "'robin said to harry that hello harry,please meet me @coffee shop or email me @ python@gmail.com @11:00am'"
      ]
     },
     "execution_count": 102,
     "metadata": {},
     "output_type": "execute_result"
    }
   ],
   "source": [
    "a+s"
   ]
  },
  {
   "cell_type": "code",
   "execution_count": 105,
   "id": "f8898435-960c-493a-823b-0b7cb02068d6",
   "metadata": {},
   "outputs": [],
   "source": [
    "b=\" harry replied ok i will be there\""
   ]
  },
  {
   "cell_type": "code",
   "execution_count": 106,
   "id": "22c4c082-2e2a-4b9c-a516-0e12875298cf",
   "metadata": {},
   "outputs": [
    {
     "data": {
      "text/plain": [
       "'hello harry,please meet me @coffee shop or email me @ python@gmail.com @11:00am harry replied ok i will be there'"
      ]
     },
     "execution_count": 106,
     "metadata": {},
     "output_type": "execute_result"
    }
   ],
   "source": [
    "s+b"
   ]
  },
  {
   "cell_type": "code",
   "execution_count": 96,
   "id": "91161179-a207-42f8-9c2f-186de03cc1c1",
   "metadata": {},
   "outputs": [],
   "source": [
    "e=\"example\""
   ]
  },
  {
   "cell_type": "code",
   "execution_count": 97,
   "id": "2186ff55-9009-4a46-9bfb-d537492caa9c",
   "metadata": {},
   "outputs": [
    {
     "data": {
      "text/plain": [
       "'elpmaxe'"
      ]
     },
     "execution_count": 97,
     "metadata": {},
     "output_type": "execute_result"
    }
   ],
   "source": [
    "e[::-1]"
   ]
  },
  {
   "cell_type": "code",
   "execution_count": 78,
   "id": "11b95777-67e3-4eb9-b20c-3370f668e384",
   "metadata": {},
   "outputs": [],
   "source": [
    "a=\"harry\""
   ]
  },
  {
   "cell_type": "code",
   "execution_count": 95,
   "id": "6c2c14f0-1ca3-4268-9b23-16a49c1d103b",
   "metadata": {},
   "outputs": [
    {
     "data": {
      "text/plain": [
       "'yrrah'"
      ]
     },
     "execution_count": 95,
     "metadata": {},
     "output_type": "execute_result"
    }
   ],
   "source": [
    "a[-1::-1]"
   ]
  },
  {
   "cell_type": "code",
   "execution_count": 2,
   "id": "a031cdbd-1353-43c1-9768-b6c3102f7a4c",
   "metadata": {},
   "outputs": [
    {
     "name": "stdout",
     "output_type": "stream",
     "text": [
      "abs(-42) = 42\n"
     ]
    }
   ],
   "source": [
    "# Demonstrate abs()\n",
    "num = -42\n",
    "abs_value = abs(num)\n",
    "print(f\"abs({num}) = {abs_value}\")  # Absolute value of a number"
   ]
  },
  {
   "cell_type": "code",
   "execution_count": 4,
   "id": "4ebc0d9e-b391-4fb6-a08d-692f87c30a91",
   "metadata": {},
   "outputs": [
    {
     "name": "stdout",
     "output_type": "stream",
     "text": [
      "len('Hello, world!') = 13\n"
     ]
    }
   ],
   "source": [
    " # Demonstrate len()\n",
    "string = \"Hello, world!\"\n",
    "length = len(string)\n",
    "print(f\"len('{string}') = {length}\")  # Length of a string"
   ]
  },
  {
   "cell_type": "code",
   "execution_count": 5,
   "id": "e0e66e74-49df-4870-b7f9-bfba3635e250",
   "metadata": {},
   "outputs": [
    {
     "name": "stdout",
     "output_type": "stream",
     "text": [
      "min value in a list : 1\n"
     ]
    }
   ],
   "source": [
    " # Demonstrate min()\n",
    "numbers = [3, 1, 4, 1, 5, 9]\n",
    "min_value = min(numbers)\n",
    "print(\"min value in a list :\",min_value)  # Minimum value in a list\n"
   ]
  },
  {
   "cell_type": "code",
   "execution_count": 6,
   "id": "ff795839-5931-4f81-adfa-8874408a8572",
   "metadata": {},
   "outputs": [
    {
     "name": "stdout",
     "output_type": "stream",
     "text": [
      "rounded value will be :  3.14\n"
     ]
    }
   ],
   "source": [
    " # Demonstrate round()\n",
    "float_num = 3.14159\n",
    "rounded_value = round(float_num, 2)\n",
    "print(\"rounded value will be : \",rounded_value)  # Rounded value to 2 decimal places\n"
   ]
  },
  {
   "cell_type": "code",
   "execution_count": 8,
   "id": "dce52354-0260-4c86-9daf-532db5620266",
   "metadata": {},
   "outputs": [
    {
     "name": "stdout",
     "output_type": "stream",
     "text": [
      "String will be alphanumeric:  True\n"
     ]
    }
   ],
   "source": [
    " # Demonstrate isalnum()\n",
    "st1 = \"Hello123\"\n",
    "is_alnum = st1.isalnum()\n",
    "print(\"String will be alphanumeric: \",is_alnum)  # Check if all characters are alphanumeric\n"
   ]
  },
  {
   "cell_type": "code",
   "execution_count": 9,
   "id": "e2fccfa7-540e-42f3-ba15-ff7914d9eaac",
   "metadata": {},
   "outputs": [
    {
     "name": "stdout",
     "output_type": "stream",
     "text": [
      "<class 'float'>\n"
     ]
    }
   ],
   "source": [
    "#Demonstrate type()\n",
    "a = \"123\"\n",
    "b = 45\n",
    "c = True\n",
    "d = 2.14\n",
    "print(type(d))"
   ]
  },
  {
   "cell_type": "code",
   "execution_count": null,
   "id": "b83b346a-cf76-4e18-ab4d-8c421dfaa849",
   "metadata": {},
   "outputs": [],
   "source": []
  },
  {
   "cell_type": "code",
   "execution_count": null,
   "id": "58e13122-a2ce-4be8-91ec-16bc8bffd1df",
   "metadata": {},
   "outputs": [],
   "source": []
  }
 ],
 "metadata": {
  "kernelspec": {
   "display_name": "Python 3 (ipykernel)",
   "language": "python",
   "name": "python3"
  },
  "language_info": {
   "codemirror_mode": {
    "name": "ipython",
    "version": 3
   },
   "file_extension": ".py",
   "mimetype": "text/x-python",
   "name": "python",
   "nbconvert_exporter": "python",
   "pygments_lexer": "ipython3",
   "version": "3.12.4"
  }
 },
 "nbformat": 4,
 "nbformat_minor": 5
}
